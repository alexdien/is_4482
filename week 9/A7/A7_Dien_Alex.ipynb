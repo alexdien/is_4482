{
  "cells": [
    {
      "cell_type": "markdown",
      "metadata": {
        "id": "Hk0FF9Wsr-KO"
      },
      "source": [
        "# A7: Blackbox methods (ANN and SVM)\n",
        "Alex Dien\n",
        "10/31/22"
      ]
    },
    {
      "cell_type": "markdown",
      "metadata": {
        "id": "mo2g0z7dtnWo"
      },
      "source": [
        "# Table of Contents"
      ]
    },
    {
      "cell_type": "markdown",
      "metadata": {
        "colab_type": "toc",
        "id": "k9WabRvJ6FbD"
      },
      "source": [
        ">[A7: Blackbox methods (ANN and SVM)](#scrollTo=Hk0FF9Wsr-KO)\n",
        "\n",
        ">[Table of Contents](#scrollTo=mo2g0z7dtnWo)\n",
        "\n",
        ">[Task 1 - Prepare your data](#scrollTo=qsR-rr7MsX4U)\n",
        "\n",
        ">>>[A. Package loading, and data import. Make sure to read the data in with the encoding parameter set as follows:](#scrollTo=5YQ09-P_uuxC)\n",
        "\n",
        ">>>[B. Show overall structure and summary of input data](#scrollTo=CY13OGHlu7cx)\n",
        "\n",
        ">>>[C. Pop the target variable](#scrollTo=aFlMz8HUIKHJ)\n",
        "\n",
        ">>>[C1: encode the target variable using the following code: y_target = y_target.eq('yes').mul(1). Show the first 7 entries of your newly encoded target variable.](#scrollTo=8n5bHGovg48B)\n",
        "\n",
        ">>>[D. Are there any numeric columns that need to be converted to categorical prior to one-hot encoding? If so do it here, otherwise note it in a text block.](#scrollTo=92-yGhPPhU6C)\n",
        "\n",
        ">>>[E. Encode the dataframe using pd.get_dummies() show the head of the encoded dataframe.](#scrollTo=Z6_k-N6miaAu)\n",
        "\n",
        ">[Task 2](#scrollTo=Dc1iMMD8sdIs)\n",
        "\n",
        ">>[Train multiple MLP models and use 5 fold cross validation for each one to evaluate their performance for the following metrics](#scrollTo=hbvWhC2UvhEz)\n",
        "\n",
        ">>>[Accuracy, Precision, Recall, F1. The CV results should be shown as a dataframe for each model as shown in the tutorial code. Compute the mean (ie results.mean()) to get the average results across cross validation.](#scrollTo=QnbjNpIVi6db)\n",
        "\n",
        ">>[Do not use GridSearchCV for this section. Each model must be built and cross validated individually](#scrollTo=47TwDd7dnYTn)\n",
        "\n",
        ">>>[1 hidden layer with 7 neurons](#scrollTo=uyGHLyg2ngZd)\n",
        "\n",
        ">>>[2 hidden layers each with 30 neurons](#scrollTo=MMEDDnSZoUWE)\n",
        "\n",
        ">>>[3 hidden layers, the first has 25 neurons and the second and third have 10 neurons](#scrollTo=RRooNSe-op_C)\n",
        "\n",
        ">>>[2 hidden layers each with 20 neurons](#scrollTo=J8078SXrpI2b)\n",
        "\n",
        ">>>[2 hidden layers each with 10 neurons](#scrollTo=n2pCf6RTpWyL)\n",
        "\n",
        ">>[Describe after evaluating each model which model appears to have the best average accuracy score by examining the results.](#scrollTo=tvJhLq0a4K49)\n",
        "\n",
        ">[Task 3](#scrollTo=ZdAY1o-crYDv)\n",
        "\n",
        ">>[Using the best model hidden layer sizes from Step 2 as you have determined the best accuracy score.](#scrollTo=nta4V8mfrlUG)\n",
        "\n",
        ">>>[Build 2 new models and change both the learning_rate_init, the activation, and the solver hyperparameters](#scrollTo=clEO1BohsVnD)\n",
        "\n",
        ">[Task 4](#scrollTo=oQgf00QvYLCK)\n",
        "\n",
        ">>>[Using GridSearchCV attempt to improve on the the best model from Task 2. Try a variety of hyperparameter combinations is gridsearch (at least 20 combinations <--- not to exceed 10 minutes total runtime. if you find your runtime is exceeding 10 minutes you may use less combinations). You may change the number of hidden layers as well and you might want to if your results in task 3 didn't improve your model. Use scoring of 'accuracy'](#scrollTo=e1GhnEFEi-bc)\n",
        "\n",
        ">>>[Show the top 5 results in a dataframe sorted by rank.](#scrollTo=GE693Lbu1Juz)\n",
        "\n",
        ">[Task 5](#scrollTo=BG06VTQO3sSJ)\n",
        "\n",
        ">>>[Using GridSearchCV (use scoring of 'accuracy' explore at least 40 hyperparameter combinations of C and kernel for the SVC classifier](#scrollTo=qyndpkYK40vj)\n",
        "\n",
        ">>>[Show the top 5 results in a dataframe sorted by rank.](#scrollTo=kGy8jCUySBEv)\n",
        "\n",
        ">[Task 6](#scrollTo=LNaSi1tSCPzB)\n",
        "\n",
        ">>>[Write up your reflections on all of the models built. Which model was most successful? What would you do to potentially improve on the successes of these models?](#scrollTo=cp3FakQJCh5Y)\n",
        "\n"
      ]
    },
    {
      "cell_type": "markdown",
      "metadata": {
        "id": "qsR-rr7MsX4U"
      },
      "source": [
        "# Task 1 - Prepare your data"
      ]
    },
    {
      "cell_type": "markdown",
      "metadata": {
        "id": "5YQ09-P_uuxC"
      },
      "source": [
        "### A. Package loading, and data import. Make sure to read the data in with the encoding parameter set as follows:\n",
        "\n",
        "Make sure to use the encoding='latin-1' as a parameter in pd.read_csv()"
      ]
    },
    {
      "cell_type": "code",
      "execution_count": null,
      "metadata": {
        "id": "ztmzoMGXuBv0"
      },
      "outputs": [],
      "source": [
        "# load packages\n",
        "import numpy as np\n",
        "import pandas as pd\n",
        "\n",
        "from sklearn import metrics\n",
        "from sklearn.metrics import classification_report, confusion_matrix,\\\n",
        " recall_score, precision_score, f1_score, accuracy_score, make_scorer,\\\n",
        "  precision_recall_fscore_support\n",
        "\n",
        "from sklearn.model_selection import train_test_split, cross_validate\n",
        "\n",
        "from sklearn.neural_network import MLPClassifier\n",
        "from sklearn.svm import SVC\n",
        "\n",
        "import warnings\n",
        "warnings.filterwarnings('ignore')"
      ]
    },
    {
      "cell_type": "code",
      "execution_count": null,
      "metadata": {
        "id": "F2S6IrlPtIux"
      },
      "outputs": [],
      "source": [
        "df = pd.read_csv(\"https://raw.githubusercontent.com/matthewpecsok/4482_fall_2022/main/data/CD_additional_modified.csv\")"
      ]
    },
    {
      "cell_type": "markdown",
      "metadata": {
        "id": "CY13OGHlu7cx"
      },
      "source": [
        "### B. Show overall structure and summary of input data"
      ]
    },
    {
      "cell_type": "code",
      "execution_count": null,
      "metadata": {
        "colab": {
          "base_uri": "https://localhost:8080/"
        },
        "id": "7YtS5LZMu_zi",
        "outputId": "c33270e4-c24a-44b7-d78d-fa28bf45f096"
      },
      "outputs": [
        {
          "output_type": "stream",
          "name": "stdout",
          "text": [
            "<class 'pandas.core.frame.DataFrame'>\n",
            "RangeIndex: 4117 entries, 0 to 4116\n",
            "Data columns (total 21 columns):\n",
            " #   Column          Non-Null Count  Dtype  \n",
            "---  ------          --------------  -----  \n",
            " 0   age             4117 non-null   int64  \n",
            " 1   job             4117 non-null   object \n",
            " 2   marital         4117 non-null   object \n",
            " 3   education       4117 non-null   object \n",
            " 4   default         4117 non-null   object \n",
            " 5   housing         4117 non-null   object \n",
            " 6   loan            4117 non-null   object \n",
            " 7   contact         4117 non-null   object \n",
            " 8   month           4117 non-null   object \n",
            " 9   day_of_week     4117 non-null   object \n",
            " 10  duration        4117 non-null   int64  \n",
            " 11  campaign        4117 non-null   int64  \n",
            " 12  pdays           4117 non-null   int64  \n",
            " 13  previous        4117 non-null   int64  \n",
            " 14  poutcome        4117 non-null   object \n",
            " 15  emp_var_rate    4117 non-null   float64\n",
            " 16  cons_price_idx  4117 non-null   float64\n",
            " 17  cons_conf_idx   4117 non-null   float64\n",
            " 18  euribor3m       4117 non-null   float64\n",
            " 19  nr_employed     4117 non-null   float64\n",
            " 20  y               4117 non-null   object \n",
            "dtypes: float64(5), int64(5), object(11)\n",
            "memory usage: 675.6+ KB\n"
          ]
        }
      ],
      "source": [
        "df.info()"
      ]
    },
    {
      "cell_type": "code",
      "execution_count": null,
      "metadata": {
        "colab": {
          "base_uri": "https://localhost:8080/",
          "height": 488
        },
        "id": "EH9e35dlFlxg",
        "outputId": "c3ad4a63-1d9a-4969-d654-eb3fe66683a7"
      },
      "outputs": [
        {
          "output_type": "execute_result",
          "data": {
            "text/plain": [
              "                age     job  marital          education default housing  loan  \\\n",
              "count   4117.000000    4117     4117               4117    4117    4117  4117   \n",
              "unique          NaN      12        4                  7       2       3     3   \n",
              "top             NaN  admin.  married  university.degree      no     yes    no   \n",
              "freq            NaN    1012     2508               1264    3314    2175  3347   \n",
              "mean      40.115375     NaN      NaN                NaN     NaN     NaN   NaN   \n",
              "std       10.314847     NaN      NaN                NaN     NaN     NaN   NaN   \n",
              "min       18.000000     NaN      NaN                NaN     NaN     NaN   NaN   \n",
              "25%       32.000000     NaN      NaN                NaN     NaN     NaN   NaN   \n",
              "50%       38.000000     NaN      NaN                NaN     NaN     NaN   NaN   \n",
              "75%       47.000000     NaN      NaN                NaN     NaN     NaN   NaN   \n",
              "max       88.000000     NaN      NaN                NaN     NaN     NaN   NaN   \n",
              "\n",
              "         contact month day_of_week  ...     campaign        pdays  \\\n",
              "count       4117  4117        4117  ...  4117.000000  4117.000000   \n",
              "unique         2    10           5  ...          NaN          NaN   \n",
              "top     cellular   may         thu  ...          NaN          NaN   \n",
              "freq        2650  1378         860  ...          NaN          NaN   \n",
              "mean         NaN   NaN         NaN  ...     2.537042   960.403449   \n",
              "std          NaN   NaN         NaN  ...     2.568668   191.967524   \n",
              "min          NaN   NaN         NaN  ...     1.000000     0.000000   \n",
              "25%          NaN   NaN         NaN  ...     1.000000   999.000000   \n",
              "50%          NaN   NaN         NaN  ...     2.000000   999.000000   \n",
              "75%          NaN   NaN         NaN  ...     3.000000   999.000000   \n",
              "max          NaN   NaN         NaN  ...    35.000000   999.000000   \n",
              "\n",
              "           previous     poutcome emp_var_rate  cons_price_idx  cons_conf_idx  \\\n",
              "count   4117.000000         4117  4117.000000     4117.000000    4117.000000   \n",
              "unique          NaN            3          NaN             NaN            NaN   \n",
              "top             NaN  nonexistent          NaN             NaN            NaN   \n",
              "freq            NaN         3522          NaN             NaN            NaN   \n",
              "mean       0.190187          NaN     0.085742       93.580131     -40.500947   \n",
              "std        0.541765          NaN     1.562799        0.579061       4.593445   \n",
              "min        0.000000          NaN    -3.400000       92.201000     -50.800000   \n",
              "25%        0.000000          NaN    -1.800000       93.075000     -42.700000   \n",
              "50%        0.000000          NaN     1.100000       93.749000     -41.800000   \n",
              "75%        0.000000          NaN     1.400000       93.994000     -36.400000   \n",
              "max        6.000000          NaN     1.400000       94.767000     -26.900000   \n",
              "\n",
              "          euribor3m  nr_employed     y  \n",
              "count   4117.000000  4117.000000  4117  \n",
              "unique          NaN          NaN     2  \n",
              "top             NaN          NaN    no  \n",
              "freq            NaN          NaN  3666  \n",
              "mean       3.621904  5166.496502   NaN  \n",
              "std        1.733448    73.670942   NaN  \n",
              "min        0.635000  4963.600000   NaN  \n",
              "25%        1.334000  5099.100000   NaN  \n",
              "50%        4.857000  5191.000000   NaN  \n",
              "75%        4.961000  5228.100000   NaN  \n",
              "max        5.045000  5228.100000   NaN  \n",
              "\n",
              "[11 rows x 21 columns]"
            ],
            "text/html": [
              "\n",
              "  <div id=\"df-5b9e668e-8be8-4ea3-97d7-ad7e8514ccb4\">\n",
              "    <div class=\"colab-df-container\">\n",
              "      <div>\n",
              "<style scoped>\n",
              "    .dataframe tbody tr th:only-of-type {\n",
              "        vertical-align: middle;\n",
              "    }\n",
              "\n",
              "    .dataframe tbody tr th {\n",
              "        vertical-align: top;\n",
              "    }\n",
              "\n",
              "    .dataframe thead th {\n",
              "        text-align: right;\n",
              "    }\n",
              "</style>\n",
              "<table border=\"1\" class=\"dataframe\">\n",
              "  <thead>\n",
              "    <tr style=\"text-align: right;\">\n",
              "      <th></th>\n",
              "      <th>age</th>\n",
              "      <th>job</th>\n",
              "      <th>marital</th>\n",
              "      <th>education</th>\n",
              "      <th>default</th>\n",
              "      <th>housing</th>\n",
              "      <th>loan</th>\n",
              "      <th>contact</th>\n",
              "      <th>month</th>\n",
              "      <th>day_of_week</th>\n",
              "      <th>...</th>\n",
              "      <th>campaign</th>\n",
              "      <th>pdays</th>\n",
              "      <th>previous</th>\n",
              "      <th>poutcome</th>\n",
              "      <th>emp_var_rate</th>\n",
              "      <th>cons_price_idx</th>\n",
              "      <th>cons_conf_idx</th>\n",
              "      <th>euribor3m</th>\n",
              "      <th>nr_employed</th>\n",
              "      <th>y</th>\n",
              "    </tr>\n",
              "  </thead>\n",
              "  <tbody>\n",
              "    <tr>\n",
              "      <th>count</th>\n",
              "      <td>4117.000000</td>\n",
              "      <td>4117</td>\n",
              "      <td>4117</td>\n",
              "      <td>4117</td>\n",
              "      <td>4117</td>\n",
              "      <td>4117</td>\n",
              "      <td>4117</td>\n",
              "      <td>4117</td>\n",
              "      <td>4117</td>\n",
              "      <td>4117</td>\n",
              "      <td>...</td>\n",
              "      <td>4117.000000</td>\n",
              "      <td>4117.000000</td>\n",
              "      <td>4117.000000</td>\n",
              "      <td>4117</td>\n",
              "      <td>4117.000000</td>\n",
              "      <td>4117.000000</td>\n",
              "      <td>4117.000000</td>\n",
              "      <td>4117.000000</td>\n",
              "      <td>4117.000000</td>\n",
              "      <td>4117</td>\n",
              "    </tr>\n",
              "    <tr>\n",
              "      <th>unique</th>\n",
              "      <td>NaN</td>\n",
              "      <td>12</td>\n",
              "      <td>4</td>\n",
              "      <td>7</td>\n",
              "      <td>2</td>\n",
              "      <td>3</td>\n",
              "      <td>3</td>\n",
              "      <td>2</td>\n",
              "      <td>10</td>\n",
              "      <td>5</td>\n",
              "      <td>...</td>\n",
              "      <td>NaN</td>\n",
              "      <td>NaN</td>\n",
              "      <td>NaN</td>\n",
              "      <td>3</td>\n",
              "      <td>NaN</td>\n",
              "      <td>NaN</td>\n",
              "      <td>NaN</td>\n",
              "      <td>NaN</td>\n",
              "      <td>NaN</td>\n",
              "      <td>2</td>\n",
              "    </tr>\n",
              "    <tr>\n",
              "      <th>top</th>\n",
              "      <td>NaN</td>\n",
              "      <td>admin.</td>\n",
              "      <td>married</td>\n",
              "      <td>university.degree</td>\n",
              "      <td>no</td>\n",
              "      <td>yes</td>\n",
              "      <td>no</td>\n",
              "      <td>cellular</td>\n",
              "      <td>may</td>\n",
              "      <td>thu</td>\n",
              "      <td>...</td>\n",
              "      <td>NaN</td>\n",
              "      <td>NaN</td>\n",
              "      <td>NaN</td>\n",
              "      <td>nonexistent</td>\n",
              "      <td>NaN</td>\n",
              "      <td>NaN</td>\n",
              "      <td>NaN</td>\n",
              "      <td>NaN</td>\n",
              "      <td>NaN</td>\n",
              "      <td>no</td>\n",
              "    </tr>\n",
              "    <tr>\n",
              "      <th>freq</th>\n",
              "      <td>NaN</td>\n",
              "      <td>1012</td>\n",
              "      <td>2508</td>\n",
              "      <td>1264</td>\n",
              "      <td>3314</td>\n",
              "      <td>2175</td>\n",
              "      <td>3347</td>\n",
              "      <td>2650</td>\n",
              "      <td>1378</td>\n",
              "      <td>860</td>\n",
              "      <td>...</td>\n",
              "      <td>NaN</td>\n",
              "      <td>NaN</td>\n",
              "      <td>NaN</td>\n",
              "      <td>3522</td>\n",
              "      <td>NaN</td>\n",
              "      <td>NaN</td>\n",
              "      <td>NaN</td>\n",
              "      <td>NaN</td>\n",
              "      <td>NaN</td>\n",
              "      <td>3666</td>\n",
              "    </tr>\n",
              "    <tr>\n",
              "      <th>mean</th>\n",
              "      <td>40.115375</td>\n",
              "      <td>NaN</td>\n",
              "      <td>NaN</td>\n",
              "      <td>NaN</td>\n",
              "      <td>NaN</td>\n",
              "      <td>NaN</td>\n",
              "      <td>NaN</td>\n",
              "      <td>NaN</td>\n",
              "      <td>NaN</td>\n",
              "      <td>NaN</td>\n",
              "      <td>...</td>\n",
              "      <td>2.537042</td>\n",
              "      <td>960.403449</td>\n",
              "      <td>0.190187</td>\n",
              "      <td>NaN</td>\n",
              "      <td>0.085742</td>\n",
              "      <td>93.580131</td>\n",
              "      <td>-40.500947</td>\n",
              "      <td>3.621904</td>\n",
              "      <td>5166.496502</td>\n",
              "      <td>NaN</td>\n",
              "    </tr>\n",
              "    <tr>\n",
              "      <th>std</th>\n",
              "      <td>10.314847</td>\n",
              "      <td>NaN</td>\n",
              "      <td>NaN</td>\n",
              "      <td>NaN</td>\n",
              "      <td>NaN</td>\n",
              "      <td>NaN</td>\n",
              "      <td>NaN</td>\n",
              "      <td>NaN</td>\n",
              "      <td>NaN</td>\n",
              "      <td>NaN</td>\n",
              "      <td>...</td>\n",
              "      <td>2.568668</td>\n",
              "      <td>191.967524</td>\n",
              "      <td>0.541765</td>\n",
              "      <td>NaN</td>\n",
              "      <td>1.562799</td>\n",
              "      <td>0.579061</td>\n",
              "      <td>4.593445</td>\n",
              "      <td>1.733448</td>\n",
              "      <td>73.670942</td>\n",
              "      <td>NaN</td>\n",
              "    </tr>\n",
              "    <tr>\n",
              "      <th>min</th>\n",
              "      <td>18.000000</td>\n",
              "      <td>NaN</td>\n",
              "      <td>NaN</td>\n",
              "      <td>NaN</td>\n",
              "      <td>NaN</td>\n",
              "      <td>NaN</td>\n",
              "      <td>NaN</td>\n",
              "      <td>NaN</td>\n",
              "      <td>NaN</td>\n",
              "      <td>NaN</td>\n",
              "      <td>...</td>\n",
              "      <td>1.000000</td>\n",
              "      <td>0.000000</td>\n",
              "      <td>0.000000</td>\n",
              "      <td>NaN</td>\n",
              "      <td>-3.400000</td>\n",
              "      <td>92.201000</td>\n",
              "      <td>-50.800000</td>\n",
              "      <td>0.635000</td>\n",
              "      <td>4963.600000</td>\n",
              "      <td>NaN</td>\n",
              "    </tr>\n",
              "    <tr>\n",
              "      <th>25%</th>\n",
              "      <td>32.000000</td>\n",
              "      <td>NaN</td>\n",
              "      <td>NaN</td>\n",
              "      <td>NaN</td>\n",
              "      <td>NaN</td>\n",
              "      <td>NaN</td>\n",
              "      <td>NaN</td>\n",
              "      <td>NaN</td>\n",
              "      <td>NaN</td>\n",
              "      <td>NaN</td>\n",
              "      <td>...</td>\n",
              "      <td>1.000000</td>\n",
              "      <td>999.000000</td>\n",
              "      <td>0.000000</td>\n",
              "      <td>NaN</td>\n",
              "      <td>-1.800000</td>\n",
              "      <td>93.075000</td>\n",
              "      <td>-42.700000</td>\n",
              "      <td>1.334000</td>\n",
              "      <td>5099.100000</td>\n",
              "      <td>NaN</td>\n",
              "    </tr>\n",
              "    <tr>\n",
              "      <th>50%</th>\n",
              "      <td>38.000000</td>\n",
              "      <td>NaN</td>\n",
              "      <td>NaN</td>\n",
              "      <td>NaN</td>\n",
              "      <td>NaN</td>\n",
              "      <td>NaN</td>\n",
              "      <td>NaN</td>\n",
              "      <td>NaN</td>\n",
              "      <td>NaN</td>\n",
              "      <td>NaN</td>\n",
              "      <td>...</td>\n",
              "      <td>2.000000</td>\n",
              "      <td>999.000000</td>\n",
              "      <td>0.000000</td>\n",
              "      <td>NaN</td>\n",
              "      <td>1.100000</td>\n",
              "      <td>93.749000</td>\n",
              "      <td>-41.800000</td>\n",
              "      <td>4.857000</td>\n",
              "      <td>5191.000000</td>\n",
              "      <td>NaN</td>\n",
              "    </tr>\n",
              "    <tr>\n",
              "      <th>75%</th>\n",
              "      <td>47.000000</td>\n",
              "      <td>NaN</td>\n",
              "      <td>NaN</td>\n",
              "      <td>NaN</td>\n",
              "      <td>NaN</td>\n",
              "      <td>NaN</td>\n",
              "      <td>NaN</td>\n",
              "      <td>NaN</td>\n",
              "      <td>NaN</td>\n",
              "      <td>NaN</td>\n",
              "      <td>...</td>\n",
              "      <td>3.000000</td>\n",
              "      <td>999.000000</td>\n",
              "      <td>0.000000</td>\n",
              "      <td>NaN</td>\n",
              "      <td>1.400000</td>\n",
              "      <td>93.994000</td>\n",
              "      <td>-36.400000</td>\n",
              "      <td>4.961000</td>\n",
              "      <td>5228.100000</td>\n",
              "      <td>NaN</td>\n",
              "    </tr>\n",
              "    <tr>\n",
              "      <th>max</th>\n",
              "      <td>88.000000</td>\n",
              "      <td>NaN</td>\n",
              "      <td>NaN</td>\n",
              "      <td>NaN</td>\n",
              "      <td>NaN</td>\n",
              "      <td>NaN</td>\n",
              "      <td>NaN</td>\n",
              "      <td>NaN</td>\n",
              "      <td>NaN</td>\n",
              "      <td>NaN</td>\n",
              "      <td>...</td>\n",
              "      <td>35.000000</td>\n",
              "      <td>999.000000</td>\n",
              "      <td>6.000000</td>\n",
              "      <td>NaN</td>\n",
              "      <td>1.400000</td>\n",
              "      <td>94.767000</td>\n",
              "      <td>-26.900000</td>\n",
              "      <td>5.045000</td>\n",
              "      <td>5228.100000</td>\n",
              "      <td>NaN</td>\n",
              "    </tr>\n",
              "  </tbody>\n",
              "</table>\n",
              "<p>11 rows × 21 columns</p>\n",
              "</div>\n",
              "      <button class=\"colab-df-convert\" onclick=\"convertToInteractive('df-5b9e668e-8be8-4ea3-97d7-ad7e8514ccb4')\"\n",
              "              title=\"Convert this dataframe to an interactive table.\"\n",
              "              style=\"display:none;\">\n",
              "        \n",
              "  <svg xmlns=\"http://www.w3.org/2000/svg\" height=\"24px\"viewBox=\"0 0 24 24\"\n",
              "       width=\"24px\">\n",
              "    <path d=\"M0 0h24v24H0V0z\" fill=\"none\"/>\n",
              "    <path d=\"M18.56 5.44l.94 2.06.94-2.06 2.06-.94-2.06-.94-.94-2.06-.94 2.06-2.06.94zm-11 1L8.5 8.5l.94-2.06 2.06-.94-2.06-.94L8.5 2.5l-.94 2.06-2.06.94zm10 10l.94 2.06.94-2.06 2.06-.94-2.06-.94-.94-2.06-.94 2.06-2.06.94z\"/><path d=\"M17.41 7.96l-1.37-1.37c-.4-.4-.92-.59-1.43-.59-.52 0-1.04.2-1.43.59L10.3 9.45l-7.72 7.72c-.78.78-.78 2.05 0 2.83L4 21.41c.39.39.9.59 1.41.59.51 0 1.02-.2 1.41-.59l7.78-7.78 2.81-2.81c.8-.78.8-2.07 0-2.86zM5.41 20L4 18.59l7.72-7.72 1.47 1.35L5.41 20z\"/>\n",
              "  </svg>\n",
              "      </button>\n",
              "      \n",
              "  <style>\n",
              "    .colab-df-container {\n",
              "      display:flex;\n",
              "      flex-wrap:wrap;\n",
              "      gap: 12px;\n",
              "    }\n",
              "\n",
              "    .colab-df-convert {\n",
              "      background-color: #E8F0FE;\n",
              "      border: none;\n",
              "      border-radius: 50%;\n",
              "      cursor: pointer;\n",
              "      display: none;\n",
              "      fill: #1967D2;\n",
              "      height: 32px;\n",
              "      padding: 0 0 0 0;\n",
              "      width: 32px;\n",
              "    }\n",
              "\n",
              "    .colab-df-convert:hover {\n",
              "      background-color: #E2EBFA;\n",
              "      box-shadow: 0px 1px 2px rgba(60, 64, 67, 0.3), 0px 1px 3px 1px rgba(60, 64, 67, 0.15);\n",
              "      fill: #174EA6;\n",
              "    }\n",
              "\n",
              "    [theme=dark] .colab-df-convert {\n",
              "      background-color: #3B4455;\n",
              "      fill: #D2E3FC;\n",
              "    }\n",
              "\n",
              "    [theme=dark] .colab-df-convert:hover {\n",
              "      background-color: #434B5C;\n",
              "      box-shadow: 0px 1px 3px 1px rgba(0, 0, 0, 0.15);\n",
              "      filter: drop-shadow(0px 1px 2px rgba(0, 0, 0, 0.3));\n",
              "      fill: #FFFFFF;\n",
              "    }\n",
              "  </style>\n",
              "\n",
              "      <script>\n",
              "        const buttonEl =\n",
              "          document.querySelector('#df-5b9e668e-8be8-4ea3-97d7-ad7e8514ccb4 button.colab-df-convert');\n",
              "        buttonEl.style.display =\n",
              "          google.colab.kernel.accessAllowed ? 'block' : 'none';\n",
              "\n",
              "        async function convertToInteractive(key) {\n",
              "          const element = document.querySelector('#df-5b9e668e-8be8-4ea3-97d7-ad7e8514ccb4');\n",
              "          const dataTable =\n",
              "            await google.colab.kernel.invokeFunction('convertToInteractive',\n",
              "                                                     [key], {});\n",
              "          if (!dataTable) return;\n",
              "\n",
              "          const docLinkHtml = 'Like what you see? Visit the ' +\n",
              "            '<a target=\"_blank\" href=https://colab.research.google.com/notebooks/data_table.ipynb>data table notebook</a>'\n",
              "            + ' to learn more about interactive tables.';\n",
              "          element.innerHTML = '';\n",
              "          dataTable['output_type'] = 'display_data';\n",
              "          await google.colab.output.renderOutput(dataTable, element);\n",
              "          const docLink = document.createElement('div');\n",
              "          docLink.innerHTML = docLinkHtml;\n",
              "          element.appendChild(docLink);\n",
              "        }\n",
              "      </script>\n",
              "    </div>\n",
              "  </div>\n",
              "  "
            ]
          },
          "metadata": {},
          "execution_count": 5
        }
      ],
      "source": [
        "# Show overall structure\n",
        "df.describe(include='all')"
      ]
    },
    {
      "cell_type": "code",
      "execution_count": null,
      "metadata": {
        "colab": {
          "base_uri": "https://localhost:8080/",
          "height": 317
        },
        "id": "YpHK5-jSFoUe",
        "outputId": "ca3b78f5-72f1-4926-f142-f16f40ab6698"
      },
      "outputs": [
        {
          "output_type": "execute_result",
          "data": {
            "text/plain": [
              "   age          job  marital          education default  housing     loan  \\\n",
              "0   30  blue-collar  married           basic.9y      no      yes       no   \n",
              "1   39     services   single        high.school      no       no       no   \n",
              "2   25     services  married        high.school      no      yes       no   \n",
              "3   38     services  married           basic.9y      no  unknown  unknown   \n",
              "4   47       admin.  married  university.degree      no      yes       no   \n",
              "\n",
              "     contact month day_of_week  ...  campaign  pdays  previous     poutcome  \\\n",
              "0   cellular   may         fri  ...         2    999         0  nonexistent   \n",
              "1  telephone   may         fri  ...         4    999         0  nonexistent   \n",
              "2  telephone   jun         wed  ...         1    999         0  nonexistent   \n",
              "3  telephone   jun         fri  ...         3    999         0  nonexistent   \n",
              "4   cellular   nov         mon  ...         1    999         0  nonexistent   \n",
              "\n",
              "  emp_var_rate  cons_price_idx  cons_conf_idx  euribor3m  nr_employed   y  \n",
              "0         -1.8          92.893          -46.2      1.313       5099.1  no  \n",
              "1          1.1          93.994          -36.4      4.855       5191.0  no  \n",
              "2          1.4          94.465          -41.8      4.962       5228.1  no  \n",
              "3          1.4          94.465          -41.8      4.959       5228.1  no  \n",
              "4         -0.1          93.200          -42.0      4.191       5195.8  no  \n",
              "\n",
              "[5 rows x 21 columns]"
            ],
            "text/html": [
              "\n",
              "  <div id=\"df-7391f982-b389-4c6f-b835-8b76545d4d15\">\n",
              "    <div class=\"colab-df-container\">\n",
              "      <div>\n",
              "<style scoped>\n",
              "    .dataframe tbody tr th:only-of-type {\n",
              "        vertical-align: middle;\n",
              "    }\n",
              "\n",
              "    .dataframe tbody tr th {\n",
              "        vertical-align: top;\n",
              "    }\n",
              "\n",
              "    .dataframe thead th {\n",
              "        text-align: right;\n",
              "    }\n",
              "</style>\n",
              "<table border=\"1\" class=\"dataframe\">\n",
              "  <thead>\n",
              "    <tr style=\"text-align: right;\">\n",
              "      <th></th>\n",
              "      <th>age</th>\n",
              "      <th>job</th>\n",
              "      <th>marital</th>\n",
              "      <th>education</th>\n",
              "      <th>default</th>\n",
              "      <th>housing</th>\n",
              "      <th>loan</th>\n",
              "      <th>contact</th>\n",
              "      <th>month</th>\n",
              "      <th>day_of_week</th>\n",
              "      <th>...</th>\n",
              "      <th>campaign</th>\n",
              "      <th>pdays</th>\n",
              "      <th>previous</th>\n",
              "      <th>poutcome</th>\n",
              "      <th>emp_var_rate</th>\n",
              "      <th>cons_price_idx</th>\n",
              "      <th>cons_conf_idx</th>\n",
              "      <th>euribor3m</th>\n",
              "      <th>nr_employed</th>\n",
              "      <th>y</th>\n",
              "    </tr>\n",
              "  </thead>\n",
              "  <tbody>\n",
              "    <tr>\n",
              "      <th>0</th>\n",
              "      <td>30</td>\n",
              "      <td>blue-collar</td>\n",
              "      <td>married</td>\n",
              "      <td>basic.9y</td>\n",
              "      <td>no</td>\n",
              "      <td>yes</td>\n",
              "      <td>no</td>\n",
              "      <td>cellular</td>\n",
              "      <td>may</td>\n",
              "      <td>fri</td>\n",
              "      <td>...</td>\n",
              "      <td>2</td>\n",
              "      <td>999</td>\n",
              "      <td>0</td>\n",
              "      <td>nonexistent</td>\n",
              "      <td>-1.8</td>\n",
              "      <td>92.893</td>\n",
              "      <td>-46.2</td>\n",
              "      <td>1.313</td>\n",
              "      <td>5099.1</td>\n",
              "      <td>no</td>\n",
              "    </tr>\n",
              "    <tr>\n",
              "      <th>1</th>\n",
              "      <td>39</td>\n",
              "      <td>services</td>\n",
              "      <td>single</td>\n",
              "      <td>high.school</td>\n",
              "      <td>no</td>\n",
              "      <td>no</td>\n",
              "      <td>no</td>\n",
              "      <td>telephone</td>\n",
              "      <td>may</td>\n",
              "      <td>fri</td>\n",
              "      <td>...</td>\n",
              "      <td>4</td>\n",
              "      <td>999</td>\n",
              "      <td>0</td>\n",
              "      <td>nonexistent</td>\n",
              "      <td>1.1</td>\n",
              "      <td>93.994</td>\n",
              "      <td>-36.4</td>\n",
              "      <td>4.855</td>\n",
              "      <td>5191.0</td>\n",
              "      <td>no</td>\n",
              "    </tr>\n",
              "    <tr>\n",
              "      <th>2</th>\n",
              "      <td>25</td>\n",
              "      <td>services</td>\n",
              "      <td>married</td>\n",
              "      <td>high.school</td>\n",
              "      <td>no</td>\n",
              "      <td>yes</td>\n",
              "      <td>no</td>\n",
              "      <td>telephone</td>\n",
              "      <td>jun</td>\n",
              "      <td>wed</td>\n",
              "      <td>...</td>\n",
              "      <td>1</td>\n",
              "      <td>999</td>\n",
              "      <td>0</td>\n",
              "      <td>nonexistent</td>\n",
              "      <td>1.4</td>\n",
              "      <td>94.465</td>\n",
              "      <td>-41.8</td>\n",
              "      <td>4.962</td>\n",
              "      <td>5228.1</td>\n",
              "      <td>no</td>\n",
              "    </tr>\n",
              "    <tr>\n",
              "      <th>3</th>\n",
              "      <td>38</td>\n",
              "      <td>services</td>\n",
              "      <td>married</td>\n",
              "      <td>basic.9y</td>\n",
              "      <td>no</td>\n",
              "      <td>unknown</td>\n",
              "      <td>unknown</td>\n",
              "      <td>telephone</td>\n",
              "      <td>jun</td>\n",
              "      <td>fri</td>\n",
              "      <td>...</td>\n",
              "      <td>3</td>\n",
              "      <td>999</td>\n",
              "      <td>0</td>\n",
              "      <td>nonexistent</td>\n",
              "      <td>1.4</td>\n",
              "      <td>94.465</td>\n",
              "      <td>-41.8</td>\n",
              "      <td>4.959</td>\n",
              "      <td>5228.1</td>\n",
              "      <td>no</td>\n",
              "    </tr>\n",
              "    <tr>\n",
              "      <th>4</th>\n",
              "      <td>47</td>\n",
              "      <td>admin.</td>\n",
              "      <td>married</td>\n",
              "      <td>university.degree</td>\n",
              "      <td>no</td>\n",
              "      <td>yes</td>\n",
              "      <td>no</td>\n",
              "      <td>cellular</td>\n",
              "      <td>nov</td>\n",
              "      <td>mon</td>\n",
              "      <td>...</td>\n",
              "      <td>1</td>\n",
              "      <td>999</td>\n",
              "      <td>0</td>\n",
              "      <td>nonexistent</td>\n",
              "      <td>-0.1</td>\n",
              "      <td>93.200</td>\n",
              "      <td>-42.0</td>\n",
              "      <td>4.191</td>\n",
              "      <td>5195.8</td>\n",
              "      <td>no</td>\n",
              "    </tr>\n",
              "  </tbody>\n",
              "</table>\n",
              "<p>5 rows × 21 columns</p>\n",
              "</div>\n",
              "      <button class=\"colab-df-convert\" onclick=\"convertToInteractive('df-7391f982-b389-4c6f-b835-8b76545d4d15')\"\n",
              "              title=\"Convert this dataframe to an interactive table.\"\n",
              "              style=\"display:none;\">\n",
              "        \n",
              "  <svg xmlns=\"http://www.w3.org/2000/svg\" height=\"24px\"viewBox=\"0 0 24 24\"\n",
              "       width=\"24px\">\n",
              "    <path d=\"M0 0h24v24H0V0z\" fill=\"none\"/>\n",
              "    <path d=\"M18.56 5.44l.94 2.06.94-2.06 2.06-.94-2.06-.94-.94-2.06-.94 2.06-2.06.94zm-11 1L8.5 8.5l.94-2.06 2.06-.94-2.06-.94L8.5 2.5l-.94 2.06-2.06.94zm10 10l.94 2.06.94-2.06 2.06-.94-2.06-.94-.94-2.06-.94 2.06-2.06.94z\"/><path d=\"M17.41 7.96l-1.37-1.37c-.4-.4-.92-.59-1.43-.59-.52 0-1.04.2-1.43.59L10.3 9.45l-7.72 7.72c-.78.78-.78 2.05 0 2.83L4 21.41c.39.39.9.59 1.41.59.51 0 1.02-.2 1.41-.59l7.78-7.78 2.81-2.81c.8-.78.8-2.07 0-2.86zM5.41 20L4 18.59l7.72-7.72 1.47 1.35L5.41 20z\"/>\n",
              "  </svg>\n",
              "      </button>\n",
              "      \n",
              "  <style>\n",
              "    .colab-df-container {\n",
              "      display:flex;\n",
              "      flex-wrap:wrap;\n",
              "      gap: 12px;\n",
              "    }\n",
              "\n",
              "    .colab-df-convert {\n",
              "      background-color: #E8F0FE;\n",
              "      border: none;\n",
              "      border-radius: 50%;\n",
              "      cursor: pointer;\n",
              "      display: none;\n",
              "      fill: #1967D2;\n",
              "      height: 32px;\n",
              "      padding: 0 0 0 0;\n",
              "      width: 32px;\n",
              "    }\n",
              "\n",
              "    .colab-df-convert:hover {\n",
              "      background-color: #E2EBFA;\n",
              "      box-shadow: 0px 1px 2px rgba(60, 64, 67, 0.3), 0px 1px 3px 1px rgba(60, 64, 67, 0.15);\n",
              "      fill: #174EA6;\n",
              "    }\n",
              "\n",
              "    [theme=dark] .colab-df-convert {\n",
              "      background-color: #3B4455;\n",
              "      fill: #D2E3FC;\n",
              "    }\n",
              "\n",
              "    [theme=dark] .colab-df-convert:hover {\n",
              "      background-color: #434B5C;\n",
              "      box-shadow: 0px 1px 3px 1px rgba(0, 0, 0, 0.15);\n",
              "      filter: drop-shadow(0px 1px 2px rgba(0, 0, 0, 0.3));\n",
              "      fill: #FFFFFF;\n",
              "    }\n",
              "  </style>\n",
              "\n",
              "      <script>\n",
              "        const buttonEl =\n",
              "          document.querySelector('#df-7391f982-b389-4c6f-b835-8b76545d4d15 button.colab-df-convert');\n",
              "        buttonEl.style.display =\n",
              "          google.colab.kernel.accessAllowed ? 'block' : 'none';\n",
              "\n",
              "        async function convertToInteractive(key) {\n",
              "          const element = document.querySelector('#df-7391f982-b389-4c6f-b835-8b76545d4d15');\n",
              "          const dataTable =\n",
              "            await google.colab.kernel.invokeFunction('convertToInteractive',\n",
              "                                                     [key], {});\n",
              "          if (!dataTable) return;\n",
              "\n",
              "          const docLinkHtml = 'Like what you see? Visit the ' +\n",
              "            '<a target=\"_blank\" href=https://colab.research.google.com/notebooks/data_table.ipynb>data table notebook</a>'\n",
              "            + ' to learn more about interactive tables.';\n",
              "          element.innerHTML = '';\n",
              "          dataTable['output_type'] = 'display_data';\n",
              "          await google.colab.output.renderOutput(dataTable, element);\n",
              "          const docLink = document.createElement('div');\n",
              "          docLink.innerHTML = docLinkHtml;\n",
              "          element.appendChild(docLink);\n",
              "        }\n",
              "      </script>\n",
              "    </div>\n",
              "  </div>\n",
              "  "
            ]
          },
          "metadata": {},
          "execution_count": 6
        }
      ],
      "source": [
        "# Summary of df\n",
        "df.head()"
      ]
    },
    {
      "cell_type": "markdown",
      "metadata": {
        "id": "aFlMz8HUIKHJ"
      },
      "source": [
        "### C. Pop the target variable"
      ]
    },
    {
      "cell_type": "code",
      "execution_count": null,
      "metadata": {
        "id": "n59BvDNJ1Qba"
      },
      "outputs": [],
      "source": [
        "y_target = df.pop('y')"
      ]
    },
    {
      "cell_type": "markdown",
      "metadata": {
        "id": "8n5bHGovg48B"
      },
      "source": [
        "### C1: encode the target variable using the following code: y_target = y_target.eq('yes').mul(1). Show the first 7 entries of your newly encoded target variable. "
      ]
    },
    {
      "cell_type": "code",
      "source": [
        "y_target = y_target.eq('yes').mul(1)"
      ],
      "metadata": {
        "id": "reS2TOS2hA17"
      },
      "execution_count": null,
      "outputs": []
    },
    {
      "cell_type": "code",
      "source": [
        "y_target.head(7)"
      ],
      "metadata": {
        "colab": {
          "base_uri": "https://localhost:8080/"
        },
        "id": "6CWqbOi1hMiu",
        "outputId": "ff30a737-b4e8-41a3-f80f-d3dccdbbf9b7"
      },
      "execution_count": null,
      "outputs": [
        {
          "output_type": "execute_result",
          "data": {
            "text/plain": [
              "0    0\n",
              "1    0\n",
              "2    0\n",
              "3    0\n",
              "4    0\n",
              "5    0\n",
              "6    0\n",
              "Name: y, dtype: int64"
            ]
          },
          "metadata": {},
          "execution_count": 9
        }
      ]
    },
    {
      "cell_type": "markdown",
      "metadata": {
        "id": "92-yGhPPhU6C"
      },
      "source": [
        "### D. Are there any numeric columns that need to be converted to categorical prior to one-hot encoding? If so do it here, otherwise note it in a text block."
      ]
    },
    {
      "cell_type": "code",
      "source": [
        "integer_columns_list = list(df.select_dtypes(include='int64').columns)\n",
        "df[integer_columns_list] = df[integer_columns_list].astype('float')\n",
        "object_columns_list = list(df.select_dtypes(include='object').columns)\n",
        "df[object_columns_list] = df[object_columns_list].astype('category')\n",
        "df.info()"
      ],
      "metadata": {
        "colab": {
          "base_uri": "https://localhost:8080/"
        },
        "id": "tRR2URzNpGDZ",
        "outputId": "7a483089-7b62-4734-bc47-953bbe054c60"
      },
      "execution_count": null,
      "outputs": [
        {
          "output_type": "stream",
          "name": "stdout",
          "text": [
            "<class 'pandas.core.frame.DataFrame'>\n",
            "RangeIndex: 4117 entries, 0 to 4116\n",
            "Data columns (total 20 columns):\n",
            " #   Column          Non-Null Count  Dtype   \n",
            "---  ------          --------------  -----   \n",
            " 0   age             4117 non-null   float64 \n",
            " 1   job             4117 non-null   category\n",
            " 2   marital         4117 non-null   category\n",
            " 3   education       4117 non-null   category\n",
            " 4   default         4117 non-null   category\n",
            " 5   housing         4117 non-null   category\n",
            " 6   loan            4117 non-null   category\n",
            " 7   contact         4117 non-null   category\n",
            " 8   month           4117 non-null   category\n",
            " 9   day_of_week     4117 non-null   category\n",
            " 10  duration        4117 non-null   float64 \n",
            " 11  campaign        4117 non-null   float64 \n",
            " 12  pdays           4117 non-null   float64 \n",
            " 13  previous        4117 non-null   float64 \n",
            " 14  poutcome        4117 non-null   category\n",
            " 15  emp_var_rate    4117 non-null   float64 \n",
            " 16  cons_price_idx  4117 non-null   float64 \n",
            " 17  cons_conf_idx   4117 non-null   float64 \n",
            " 18  euribor3m       4117 non-null   float64 \n",
            " 19  nr_employed     4117 non-null   float64 \n",
            "dtypes: category(10), float64(10)\n",
            "memory usage: 364.1 KB\n"
          ]
        }
      ]
    },
    {
      "cell_type": "markdown",
      "metadata": {
        "id": "Z6_k-N6miaAu"
      },
      "source": [
        "### E. Encode the dataframe using pd.get_dummies() show the head of the encoded dataframe. \n",
        "\n"
      ]
    },
    {
      "cell_type": "code",
      "source": [
        "X = pd.get_dummies(df)"
      ],
      "metadata": {
        "id": "eSuAWVhOifaG"
      },
      "execution_count": null,
      "outputs": []
    },
    {
      "cell_type": "code",
      "source": [
        "X.head()"
      ],
      "metadata": {
        "colab": {
          "base_uri": "https://localhost:8080/",
          "height": 300
        },
        "id": "CqcI5tR6iouh",
        "outputId": "48784082-aad6-4b41-ed03-b784967ec134"
      },
      "execution_count": null,
      "outputs": [
        {
          "output_type": "execute_result",
          "data": {
            "text/plain": [
              "    age  duration  campaign  pdays  previous  emp_var_rate  cons_price_idx  \\\n",
              "0  30.0     487.0       2.0  999.0       0.0          -1.8          92.893   \n",
              "1  39.0     346.0       4.0  999.0       0.0           1.1          93.994   \n",
              "2  25.0     227.0       1.0  999.0       0.0           1.4          94.465   \n",
              "3  38.0      17.0       3.0  999.0       0.0           1.4          94.465   \n",
              "4  47.0      58.0       1.0  999.0       0.0          -0.1          93.200   \n",
              "\n",
              "   cons_conf_idx  euribor3m  nr_employed  ...  month_oct  month_sep  \\\n",
              "0          -46.2      1.313       5099.1  ...          0          0   \n",
              "1          -36.4      4.855       5191.0  ...          0          0   \n",
              "2          -41.8      4.962       5228.1  ...          0          0   \n",
              "3          -41.8      4.959       5228.1  ...          0          0   \n",
              "4          -42.0      4.191       5195.8  ...          0          0   \n",
              "\n",
              "   day_of_week_fri  day_of_week_mon  day_of_week_thu  day_of_week_tue  \\\n",
              "0                1                0                0                0   \n",
              "1                1                0                0                0   \n",
              "2                0                0                0                0   \n",
              "3                1                0                0                0   \n",
              "4                0                1                0                0   \n",
              "\n",
              "   day_of_week_wed  poutcome_failure  poutcome_nonexistent  poutcome_success  \n",
              "0                0                 0                     1                 0  \n",
              "1                0                 0                     1                 0  \n",
              "2                1                 0                     1                 0  \n",
              "3                0                 0                     1                 0  \n",
              "4                0                 0                     1                 0  \n",
              "\n",
              "[5 rows x 61 columns]"
            ],
            "text/html": [
              "\n",
              "  <div id=\"df-21ad768f-9ada-4651-a92c-4309684a029a\">\n",
              "    <div class=\"colab-df-container\">\n",
              "      <div>\n",
              "<style scoped>\n",
              "    .dataframe tbody tr th:only-of-type {\n",
              "        vertical-align: middle;\n",
              "    }\n",
              "\n",
              "    .dataframe tbody tr th {\n",
              "        vertical-align: top;\n",
              "    }\n",
              "\n",
              "    .dataframe thead th {\n",
              "        text-align: right;\n",
              "    }\n",
              "</style>\n",
              "<table border=\"1\" class=\"dataframe\">\n",
              "  <thead>\n",
              "    <tr style=\"text-align: right;\">\n",
              "      <th></th>\n",
              "      <th>age</th>\n",
              "      <th>duration</th>\n",
              "      <th>campaign</th>\n",
              "      <th>pdays</th>\n",
              "      <th>previous</th>\n",
              "      <th>emp_var_rate</th>\n",
              "      <th>cons_price_idx</th>\n",
              "      <th>cons_conf_idx</th>\n",
              "      <th>euribor3m</th>\n",
              "      <th>nr_employed</th>\n",
              "      <th>...</th>\n",
              "      <th>month_oct</th>\n",
              "      <th>month_sep</th>\n",
              "      <th>day_of_week_fri</th>\n",
              "      <th>day_of_week_mon</th>\n",
              "      <th>day_of_week_thu</th>\n",
              "      <th>day_of_week_tue</th>\n",
              "      <th>day_of_week_wed</th>\n",
              "      <th>poutcome_failure</th>\n",
              "      <th>poutcome_nonexistent</th>\n",
              "      <th>poutcome_success</th>\n",
              "    </tr>\n",
              "  </thead>\n",
              "  <tbody>\n",
              "    <tr>\n",
              "      <th>0</th>\n",
              "      <td>30.0</td>\n",
              "      <td>487.0</td>\n",
              "      <td>2.0</td>\n",
              "      <td>999.0</td>\n",
              "      <td>0.0</td>\n",
              "      <td>-1.8</td>\n",
              "      <td>92.893</td>\n",
              "      <td>-46.2</td>\n",
              "      <td>1.313</td>\n",
              "      <td>5099.1</td>\n",
              "      <td>...</td>\n",
              "      <td>0</td>\n",
              "      <td>0</td>\n",
              "      <td>1</td>\n",
              "      <td>0</td>\n",
              "      <td>0</td>\n",
              "      <td>0</td>\n",
              "      <td>0</td>\n",
              "      <td>0</td>\n",
              "      <td>1</td>\n",
              "      <td>0</td>\n",
              "    </tr>\n",
              "    <tr>\n",
              "      <th>1</th>\n",
              "      <td>39.0</td>\n",
              "      <td>346.0</td>\n",
              "      <td>4.0</td>\n",
              "      <td>999.0</td>\n",
              "      <td>0.0</td>\n",
              "      <td>1.1</td>\n",
              "      <td>93.994</td>\n",
              "      <td>-36.4</td>\n",
              "      <td>4.855</td>\n",
              "      <td>5191.0</td>\n",
              "      <td>...</td>\n",
              "      <td>0</td>\n",
              "      <td>0</td>\n",
              "      <td>1</td>\n",
              "      <td>0</td>\n",
              "      <td>0</td>\n",
              "      <td>0</td>\n",
              "      <td>0</td>\n",
              "      <td>0</td>\n",
              "      <td>1</td>\n",
              "      <td>0</td>\n",
              "    </tr>\n",
              "    <tr>\n",
              "      <th>2</th>\n",
              "      <td>25.0</td>\n",
              "      <td>227.0</td>\n",
              "      <td>1.0</td>\n",
              "      <td>999.0</td>\n",
              "      <td>0.0</td>\n",
              "      <td>1.4</td>\n",
              "      <td>94.465</td>\n",
              "      <td>-41.8</td>\n",
              "      <td>4.962</td>\n",
              "      <td>5228.1</td>\n",
              "      <td>...</td>\n",
              "      <td>0</td>\n",
              "      <td>0</td>\n",
              "      <td>0</td>\n",
              "      <td>0</td>\n",
              "      <td>0</td>\n",
              "      <td>0</td>\n",
              "      <td>1</td>\n",
              "      <td>0</td>\n",
              "      <td>1</td>\n",
              "      <td>0</td>\n",
              "    </tr>\n",
              "    <tr>\n",
              "      <th>3</th>\n",
              "      <td>38.0</td>\n",
              "      <td>17.0</td>\n",
              "      <td>3.0</td>\n",
              "      <td>999.0</td>\n",
              "      <td>0.0</td>\n",
              "      <td>1.4</td>\n",
              "      <td>94.465</td>\n",
              "      <td>-41.8</td>\n",
              "      <td>4.959</td>\n",
              "      <td>5228.1</td>\n",
              "      <td>...</td>\n",
              "      <td>0</td>\n",
              "      <td>0</td>\n",
              "      <td>1</td>\n",
              "      <td>0</td>\n",
              "      <td>0</td>\n",
              "      <td>0</td>\n",
              "      <td>0</td>\n",
              "      <td>0</td>\n",
              "      <td>1</td>\n",
              "      <td>0</td>\n",
              "    </tr>\n",
              "    <tr>\n",
              "      <th>4</th>\n",
              "      <td>47.0</td>\n",
              "      <td>58.0</td>\n",
              "      <td>1.0</td>\n",
              "      <td>999.0</td>\n",
              "      <td>0.0</td>\n",
              "      <td>-0.1</td>\n",
              "      <td>93.200</td>\n",
              "      <td>-42.0</td>\n",
              "      <td>4.191</td>\n",
              "      <td>5195.8</td>\n",
              "      <td>...</td>\n",
              "      <td>0</td>\n",
              "      <td>0</td>\n",
              "      <td>0</td>\n",
              "      <td>1</td>\n",
              "      <td>0</td>\n",
              "      <td>0</td>\n",
              "      <td>0</td>\n",
              "      <td>0</td>\n",
              "      <td>1</td>\n",
              "      <td>0</td>\n",
              "    </tr>\n",
              "  </tbody>\n",
              "</table>\n",
              "<p>5 rows × 61 columns</p>\n",
              "</div>\n",
              "      <button class=\"colab-df-convert\" onclick=\"convertToInteractive('df-21ad768f-9ada-4651-a92c-4309684a029a')\"\n",
              "              title=\"Convert this dataframe to an interactive table.\"\n",
              "              style=\"display:none;\">\n",
              "        \n",
              "  <svg xmlns=\"http://www.w3.org/2000/svg\" height=\"24px\"viewBox=\"0 0 24 24\"\n",
              "       width=\"24px\">\n",
              "    <path d=\"M0 0h24v24H0V0z\" fill=\"none\"/>\n",
              "    <path d=\"M18.56 5.44l.94 2.06.94-2.06 2.06-.94-2.06-.94-.94-2.06-.94 2.06-2.06.94zm-11 1L8.5 8.5l.94-2.06 2.06-.94-2.06-.94L8.5 2.5l-.94 2.06-2.06.94zm10 10l.94 2.06.94-2.06 2.06-.94-2.06-.94-.94-2.06-.94 2.06-2.06.94z\"/><path d=\"M17.41 7.96l-1.37-1.37c-.4-.4-.92-.59-1.43-.59-.52 0-1.04.2-1.43.59L10.3 9.45l-7.72 7.72c-.78.78-.78 2.05 0 2.83L4 21.41c.39.39.9.59 1.41.59.51 0 1.02-.2 1.41-.59l7.78-7.78 2.81-2.81c.8-.78.8-2.07 0-2.86zM5.41 20L4 18.59l7.72-7.72 1.47 1.35L5.41 20z\"/>\n",
              "  </svg>\n",
              "      </button>\n",
              "      \n",
              "  <style>\n",
              "    .colab-df-container {\n",
              "      display:flex;\n",
              "      flex-wrap:wrap;\n",
              "      gap: 12px;\n",
              "    }\n",
              "\n",
              "    .colab-df-convert {\n",
              "      background-color: #E8F0FE;\n",
              "      border: none;\n",
              "      border-radius: 50%;\n",
              "      cursor: pointer;\n",
              "      display: none;\n",
              "      fill: #1967D2;\n",
              "      height: 32px;\n",
              "      padding: 0 0 0 0;\n",
              "      width: 32px;\n",
              "    }\n",
              "\n",
              "    .colab-df-convert:hover {\n",
              "      background-color: #E2EBFA;\n",
              "      box-shadow: 0px 1px 2px rgba(60, 64, 67, 0.3), 0px 1px 3px 1px rgba(60, 64, 67, 0.15);\n",
              "      fill: #174EA6;\n",
              "    }\n",
              "\n",
              "    [theme=dark] .colab-df-convert {\n",
              "      background-color: #3B4455;\n",
              "      fill: #D2E3FC;\n",
              "    }\n",
              "\n",
              "    [theme=dark] .colab-df-convert:hover {\n",
              "      background-color: #434B5C;\n",
              "      box-shadow: 0px 1px 3px 1px rgba(0, 0, 0, 0.15);\n",
              "      filter: drop-shadow(0px 1px 2px rgba(0, 0, 0, 0.3));\n",
              "      fill: #FFFFFF;\n",
              "    }\n",
              "  </style>\n",
              "\n",
              "      <script>\n",
              "        const buttonEl =\n",
              "          document.querySelector('#df-21ad768f-9ada-4651-a92c-4309684a029a button.colab-df-convert');\n",
              "        buttonEl.style.display =\n",
              "          google.colab.kernel.accessAllowed ? 'block' : 'none';\n",
              "\n",
              "        async function convertToInteractive(key) {\n",
              "          const element = document.querySelector('#df-21ad768f-9ada-4651-a92c-4309684a029a');\n",
              "          const dataTable =\n",
              "            await google.colab.kernel.invokeFunction('convertToInteractive',\n",
              "                                                     [key], {});\n",
              "          if (!dataTable) return;\n",
              "\n",
              "          const docLinkHtml = 'Like what you see? Visit the ' +\n",
              "            '<a target=\"_blank\" href=https://colab.research.google.com/notebooks/data_table.ipynb>data table notebook</a>'\n",
              "            + ' to learn more about interactive tables.';\n",
              "          element.innerHTML = '';\n",
              "          dataTable['output_type'] = 'display_data';\n",
              "          await google.colab.output.renderOutput(dataTable, element);\n",
              "          const docLink = document.createElement('div');\n",
              "          docLink.innerHTML = docLinkHtml;\n",
              "          element.appendChild(docLink);\n",
              "        }\n",
              "      </script>\n",
              "    </div>\n",
              "  </div>\n",
              "  "
            ]
          },
          "metadata": {},
          "execution_count": 12
        }
      ]
    },
    {
      "cell_type": "markdown",
      "metadata": {
        "id": "Dc1iMMD8sdIs"
      },
      "source": [
        "# Task 2\n"
      ]
    },
    {
      "cell_type": "markdown",
      "metadata": {
        "id": "hbvWhC2UvhEz"
      },
      "source": [
        "## 1. Train multiple MLP models and use 5 fold cross validation for each one to evaluate their performance for the following metrics\n"
      ]
    },
    {
      "cell_type": "markdown",
      "metadata": {
        "id": "QnbjNpIVi6db"
      },
      "source": [
        "### 1. Accuracy, Precision, Recall, F1. The CV results should be shown as a dataframe for each model as shown in the tutorial code. Compute the mean (ie results.mean()) to get the average results across cross validation.\n"
      ]
    },
    {
      "cell_type": "code",
      "execution_count": null,
      "metadata": {
        "id": "kMoapTbL3-hS"
      },
      "outputs": [],
      "source": [
        "model_1 = MLPClassifier(random_state=2021,hidden_layer_sizes=()).fit(X,y_target)"
      ]
    },
    {
      "cell_type": "code",
      "source": [
        "model_1_cv_results = pd.DataFrame(cross_validate(model_1,\n",
        "               X,\n",
        "               y_target,\n",
        "               cv = 5,\n",
        "               return_train_score=True,\n",
        "               scoring=['accuracy','recall','precision','f1']))\n",
        "\n",
        "model_1_cv_results.mean()"
      ],
      "metadata": {
        "colab": {
          "base_uri": "https://localhost:8080/"
        },
        "id": "w8wdyuRRkzbG",
        "outputId": "7c34cd37-54b9-4577-d254-b0cfacef84aa"
      },
      "execution_count": null,
      "outputs": [
        {
          "output_type": "execute_result",
          "data": {
            "text/plain": [
              "fit_time           2.140564\n",
              "score_time         0.008653\n",
              "test_accuracy      0.899442\n",
              "train_accuracy     0.899138\n",
              "test_recall        0.421880\n",
              "train_recall       0.437804\n",
              "test_precision     0.558776\n",
              "train_precision    0.576607\n",
              "test_f1            0.458333\n",
              "train_f1           0.474369\n",
              "dtype: float64"
            ]
          },
          "metadata": {},
          "execution_count": 14
        }
      ]
    },
    {
      "cell_type": "markdown",
      "metadata": {
        "id": "47TwDd7dnYTn"
      },
      "source": [
        "## 2. Do not use GridSearchCV for this section. Each model must be built and cross validated individually\n",
        "\n"
      ]
    },
    {
      "cell_type": "markdown",
      "metadata": {
        "id": "uyGHLyg2ngZd"
      },
      "source": [
        "### 1 hidden layer with 7 neurons\n",
        "\n"
      ]
    },
    {
      "cell_type": "code",
      "execution_count": null,
      "metadata": {
        "id": "n0DPNRtgmh6r"
      },
      "outputs": [],
      "source": [
        "model_2 = MLPClassifier(random_state=2021,hidden_layer_sizes=(7,)).fit(X,y_target)"
      ]
    },
    {
      "cell_type": "code",
      "source": [
        "model_2_cv_results = pd.DataFrame(cross_validate(model_2,\n",
        "               X,\n",
        "               y_target,\n",
        "               cv = 5,\n",
        "               return_train_score=True,\n",
        "               scoring=['accuracy','recall','precision','f1']))\n",
        "\n",
        "model_2_cv_results.mean()"
      ],
      "metadata": {
        "colab": {
          "base_uri": "https://localhost:8080/"
        },
        "id": "PWfzWVNomsZ1",
        "outputId": "dc9ff276-e2dc-4831-af78-5ffcfd67b78a"
      },
      "execution_count": null,
      "outputs": [
        {
          "output_type": "execute_result",
          "data": {
            "text/plain": [
              "fit_time           1.032850\n",
              "score_time         0.008100\n",
              "test_accuracy      0.903572\n",
              "train_accuracy     0.904967\n",
              "test_recall        0.193016\n",
              "train_recall       0.192365\n",
              "test_precision     0.721265\n",
              "train_precision    0.766331\n",
              "test_f1            0.289863\n",
              "train_f1           0.297261\n",
              "dtype: float64"
            ]
          },
          "metadata": {},
          "execution_count": 16
        }
      ]
    },
    {
      "cell_type": "markdown",
      "metadata": {
        "id": "MMEDDnSZoUWE"
      },
      "source": [
        "### 2 hidden layers each with 30 neurons\n",
        "\n"
      ]
    },
    {
      "cell_type": "code",
      "source": [
        "model_3 = MLPClassifier(random_state=2021,hidden_layer_sizes=(30,30)).fit(X,y_target)"
      ],
      "metadata": {
        "id": "X8C9KCXCoTRQ"
      },
      "execution_count": null,
      "outputs": []
    },
    {
      "cell_type": "code",
      "source": [
        "model_3_cv_results = pd.DataFrame(cross_validate(model_3,\n",
        "               X,\n",
        "               y_target,\n",
        "               cv = 5,\n",
        "               return_train_score=True,\n",
        "               scoring=['accuracy','recall','precision','f1']))\n",
        "\n",
        "model_3_cv_results.mean()"
      ],
      "metadata": {
        "colab": {
          "base_uri": "https://localhost:8080/"
        },
        "id": "fl1pYCRboh_z",
        "outputId": "8313b4c5-b94a-4136-beaf-852078c3d892"
      },
      "execution_count": null,
      "outputs": [
        {
          "output_type": "execute_result",
          "data": {
            "text/plain": [
              "fit_time           0.840310\n",
              "score_time         0.009773\n",
              "test_accuracy      0.900168\n",
              "train_accuracy     0.906607\n",
              "test_recall        0.308059\n",
              "train_recall       0.328758\n",
              "test_precision     0.629829\n",
              "train_precision    0.677481\n",
              "test_f1            0.391559\n",
              "train_f1           0.420155\n",
              "dtype: float64"
            ]
          },
          "metadata": {},
          "execution_count": 35
        }
      ]
    },
    {
      "cell_type": "markdown",
      "metadata": {
        "id": "RRooNSe-op_C"
      },
      "source": [
        "### 3 hidden layers, the first has 25 neurons and the second and third have 10 neurons\n",
        "\n"
      ]
    },
    {
      "cell_type": "code",
      "source": [
        "model_4 = MLPClassifier(random_state=2021,hidden_layer_sizes=(25,10,10)).fit(X,y_target)"
      ],
      "metadata": {
        "id": "RSU5FbQyooTf"
      },
      "execution_count": null,
      "outputs": []
    },
    {
      "cell_type": "code",
      "source": [
        "model_4_cv_results = pd.DataFrame(cross_validate(model_4,\n",
        "               X,\n",
        "               y_target,\n",
        "               cv = 5,\n",
        "               return_train_score=True,\n",
        "               scoring=['accuracy','recall','precision','f1']))\n",
        "\n",
        "model_4_cv_results.mean()"
      ],
      "metadata": {
        "colab": {
          "base_uri": "https://localhost:8080/"
        },
        "id": "D0Ps6wUyo0Zm",
        "outputId": "78c9e227-8647-4eca-befb-6172c0a3f60f"
      },
      "execution_count": null,
      "outputs": [
        {
          "output_type": "execute_result",
          "data": {
            "text/plain": [
              "fit_time           5.352936\n",
              "score_time         0.009816\n",
              "test_accuracy      0.890454\n",
              "train_accuracy     0.890454\n",
              "test_recall        0.000000\n",
              "train_recall       0.000000\n",
              "test_precision     0.000000\n",
              "train_precision    0.000000\n",
              "test_f1            0.000000\n",
              "train_f1           0.000000\n",
              "dtype: float64"
            ]
          },
          "metadata": {},
          "execution_count": 20
        }
      ]
    },
    {
      "cell_type": "markdown",
      "metadata": {
        "id": "J8078SXrpI2b"
      },
      "source": [
        "### 2 hidden layers each with 20 neurons\n",
        "\n",
        "\n"
      ]
    },
    {
      "cell_type": "code",
      "source": [
        "model_5 = MLPClassifier(random_state=2021,hidden_layer_sizes=(20,20)).fit(X,y_target)"
      ],
      "metadata": {
        "id": "tF5Bm7LipHXH"
      },
      "execution_count": null,
      "outputs": []
    },
    {
      "cell_type": "code",
      "source": [
        "model_5_cv_results = pd.DataFrame(cross_validate(model_5,\n",
        "               X,\n",
        "               y_target,\n",
        "               cv = 5,\n",
        "               return_train_score=True,\n",
        "               scoring=['accuracy','recall','precision','f1']))\n",
        "\n",
        "model_5_cv_results.mean()"
      ],
      "metadata": {
        "colab": {
          "base_uri": "https://localhost:8080/"
        },
        "id": "kFgQk2bkpRai",
        "outputId": "d0f5400a-1dbe-4064-927f-0fc423a29573"
      },
      "execution_count": null,
      "outputs": [
        {
          "output_type": "execute_result",
          "data": {
            "text/plain": [
              "fit_time           0.851641\n",
              "score_time         0.009042\n",
              "test_accuracy      0.853510\n",
              "train_accuracy     0.848683\n",
              "test_recall        0.404371\n",
              "train_recall       0.399451\n",
              "test_precision     0.434785\n",
              "train_precision    0.651037\n",
              "test_f1            0.307951\n",
              "train_f1           0.294693\n",
              "dtype: float64"
            ]
          },
          "metadata": {},
          "execution_count": 22
        }
      ]
    },
    {
      "cell_type": "markdown",
      "metadata": {
        "id": "n2pCf6RTpWyL"
      },
      "source": [
        "### 2 hidden layers each with 10 neurons\n",
        "\n",
        "\n",
        "\n"
      ]
    },
    {
      "cell_type": "code",
      "source": [
        "model_6 = MLPClassifier(random_state=2021,hidden_layer_sizes=(10,10)).fit(X,y_target)"
      ],
      "metadata": {
        "id": "K0wn0d3WpczM"
      },
      "execution_count": null,
      "outputs": []
    },
    {
      "cell_type": "code",
      "source": [
        "model_6_cv_results = pd.DataFrame(cross_validate(model_6,\n",
        "               X,\n",
        "               y_target,\n",
        "               cv = 5,\n",
        "               return_train_score=True,\n",
        "               scoring=['accuracy','recall','precision','f1']))\n",
        "\n",
        "model_6_cv_results.mean()"
      ],
      "metadata": {
        "colab": {
          "base_uri": "https://localhost:8080/"
        },
        "id": "lWeqU414pgDX",
        "outputId": "ac53ab6e-1c65-46c3-be1f-7cf98b289b51"
      },
      "execution_count": null,
      "outputs": [
        {
          "output_type": "execute_result",
          "data": {
            "text/plain": [
              "fit_time           0.984151\n",
              "score_time         0.008300\n",
              "test_accuracy      0.905027\n",
              "train_accuracy     0.906304\n",
              "test_recall        0.441172\n",
              "train_recall       0.444597\n",
              "test_precision     0.620115\n",
              "train_precision    0.650428\n",
              "test_f1            0.488095\n",
              "train_f1           0.485307\n",
              "dtype: float64"
            ]
          },
          "metadata": {},
          "execution_count": 24
        }
      ]
    },
    {
      "cell_type": "markdown",
      "metadata": {
        "id": "tvJhLq0a4K49"
      },
      "source": [
        "## 3. Describe after evaluating each model which model appears to have the best average accuracy score by examining the results."
      ]
    },
    {
      "cell_type": "markdown",
      "source": [
        "After observing each model, model 6 seems to have the best test and train accuracy; test_accuracy      0.905027\n",
        "train_accuracy     0.906304\n",
        "by having 2 hidden layers with 10 neurons each."
      ],
      "metadata": {
        "id": "MDUOXyyWp7pG"
      }
    },
    {
      "cell_type": "markdown",
      "metadata": {
        "id": "ZdAY1o-crYDv"
      },
      "source": [
        "# Task 3"
      ]
    },
    {
      "cell_type": "markdown",
      "metadata": {
        "id": "nta4V8mfrlUG"
      },
      "source": [
        "## 1. Using the best model hidden layer sizes from Step 2 as you have determined the best accuracy score. "
      ]
    },
    {
      "cell_type": "markdown",
      "metadata": {
        "id": "clEO1BohsVnD"
      },
      "source": [
        "### 1. Build 2 new models and change both the learning_rate_init, the activation, and the solver hyperparameters\n"
      ]
    },
    {
      "cell_type": "code",
      "source": [
        "model_7 = MLPClassifier(random_state=2021,hidden_layer_sizes=(10,10), learning_rate='constant', activation='relu', solver='adam').fit(X,y_target)"
      ],
      "metadata": {
        "id": "W9SYCGGjYGlJ"
      },
      "execution_count": null,
      "outputs": []
    },
    {
      "cell_type": "code",
      "source": [
        "model_7_cv_results = pd.DataFrame(cross_validate(model_7,\n",
        "               X,\n",
        "               y_target,\n",
        "               cv = 5,\n",
        "               return_train_score=True,\n",
        "               scoring=['accuracy','recall','precision','f1']))\n",
        "\n",
        "model_7_cv_results.mean()"
      ],
      "metadata": {
        "colab": {
          "base_uri": "https://localhost:8080/"
        },
        "id": "3J6Rw1PAmKfo",
        "outputId": "9ad537cd-7fe0-40b1-fe41-4814d66ca6af"
      },
      "execution_count": null,
      "outputs": [
        {
          "output_type": "execute_result",
          "data": {
            "text/plain": [
              "fit_time           0.991087\n",
              "score_time         0.013636\n",
              "test_accuracy      0.905027\n",
              "train_accuracy     0.906304\n",
              "test_recall        0.441172\n",
              "train_recall       0.444597\n",
              "test_precision     0.620115\n",
              "train_precision    0.650428\n",
              "test_f1            0.488095\n",
              "train_f1           0.485307\n",
              "dtype: float64"
            ]
          },
          "metadata": {},
          "execution_count": 26
        }
      ]
    },
    {
      "cell_type": "markdown",
      "source": [
        "The results of this test are very accurate after changing the hyperparameteres."
      ],
      "metadata": {
        "id": "jfcljU2wij5R"
      }
    },
    {
      "cell_type": "code",
      "source": [
        "model_8 = MLPClassifier(random_state=2021,hidden_layer_sizes=(7,), learning_rate='adaptive', activation='identity', solver='sgd').fit(X,y_target)"
      ],
      "metadata": {
        "id": "KPuK9N10mZSg"
      },
      "execution_count": null,
      "outputs": []
    },
    {
      "cell_type": "code",
      "source": [
        "model_8_cv_results = pd.DataFrame(cross_validate(model_8,\n",
        "               X,\n",
        "               y_target,\n",
        "               cv = 5,\n",
        "               return_train_score=True,\n",
        "               scoring=['accuracy','recall','precision','f1']))\n",
        "\n",
        "model_8_cv_results.mean()"
      ],
      "metadata": {
        "colab": {
          "base_uri": "https://localhost:8080/"
        },
        "id": "l8lUWyY4hS12",
        "outputId": "d25a1be2-3293-42a4-ab0a-fdcede4c9df0"
      },
      "execution_count": null,
      "outputs": [
        {
          "output_type": "execute_result",
          "data": {
            "text/plain": [
              "fit_time           1.643500\n",
              "score_time         0.008270\n",
              "test_accuracy      0.890454\n",
              "train_accuracy     0.890454\n",
              "test_recall        0.000000\n",
              "train_recall       0.000000\n",
              "test_precision     0.000000\n",
              "train_precision    0.000000\n",
              "test_f1            0.000000\n",
              "train_f1           0.000000\n",
              "dtype: float64"
            ]
          },
          "metadata": {},
          "execution_count": 28
        }
      ]
    },
    {
      "cell_type": "markdown",
      "source": [
        "The results of this test went down by 1%."
      ],
      "metadata": {
        "id": "Nwb-ULH8ixC8"
      }
    },
    {
      "cell_type": "markdown",
      "metadata": {
        "id": "oQgf00QvYLCK"
      },
      "source": [
        "# Task 4"
      ]
    },
    {
      "cell_type": "markdown",
      "metadata": {
        "id": "e1GhnEFEi-bc"
      },
      "source": [
        "### Using GridSearchCV attempt to improve on the the best model from Task 2. Try a variety of hyperparameter combinations is gridsearch (at least 20 combinations <--- not to exceed 10 minutes total runtime. if you find your runtime is exceeding 10 minutes you may use less combinations). You may change the number of hidden layers as well and you might want to if your results in task 3 didn't improve your model. Use scoring of 'accuracy'"
      ]
    },
    {
      "cell_type": "code",
      "source": [
        "from sklearn.model_selection import GridSearchCV\n",
        "parameters = {'hidden_layer_sizes':[\n",
        "                                    (5,5),\n",
        "                                    (10,10),\n",
        "                                    (20,20,20),\n",
        "                                    (30,10,10),\n",
        "                                    ],\n",
        "              'learning_rate_init':[0.1,0.01],\n",
        "              'activation':['logistic', 'tanh', 'relu'],\n",
        "              'alpha':[0.001,0.01,0.1]\n",
        "              }\n",
        "mlp = MLPClassifier(random_state=2021)\n",
        "clf = GridSearchCV(mlp, parameters,scoring='accuracy',return_train_score=True,cv=5)\n",
        "clf.fit(X, y_target)"
      ],
      "metadata": {
        "id": "RXPV-tNh0wfK",
        "colab": {
          "base_uri": "https://localhost:8080/"
        },
        "outputId": "09fd71b9-488c-4258-b153-a36cd096b9f2"
      },
      "execution_count": null,
      "outputs": [
        {
          "output_type": "execute_result",
          "data": {
            "text/plain": [
              "GridSearchCV(cv=5, estimator=MLPClassifier(random_state=2021),\n",
              "             param_grid={'activation': ['logistic', 'tanh', 'relu'],\n",
              "                         'alpha': [0.001, 0.01, 0.1],\n",
              "                         'hidden_layer_sizes': [(5, 5), (10, 10), (20, 20, 20),\n",
              "                                                (30, 10, 10)],\n",
              "                         'learning_rate_init': [0.1, 0.01]},\n",
              "             return_train_score=True, scoring='accuracy')"
            ]
          },
          "metadata": {},
          "execution_count": 29
        }
      ]
    },
    {
      "cell_type": "markdown",
      "metadata": {
        "id": "GE693Lbu1Juz"
      },
      "source": [
        "### 2. Show the top 5 results in a dataframe sorted by rank.\n"
      ]
    },
    {
      "cell_type": "code",
      "source": [
        "grid_search_df = pd.DataFrame(clf.cv_results_)\n",
        "grid_search_df = round(grid_search_df,4)\n",
        "grid_search_df = grid_search_df.sort_values('rank_test_score')[['rank_test_score','params','mean_test_score','mean_train_score']]\n",
        "from google.colab import data_table\n",
        "data_table.DataTable(grid_search_df)"
      ],
      "metadata": {
        "colab": {
          "base_uri": "https://localhost:8080/",
          "height": 637
        },
        "id": "D2nrunG31EHM",
        "outputId": "bfa85d87-b89b-470f-8ef3-ae60bc5504bc"
      },
      "execution_count": null,
      "outputs": [
        {
          "output_type": "execute_result",
          "data": {
            "text/html": [
              "<div>\n",
              "<style scoped>\n",
              "    .dataframe tbody tr th:only-of-type {\n",
              "        vertical-align: middle;\n",
              "    }\n",
              "\n",
              "    .dataframe tbody tr th {\n",
              "        vertical-align: top;\n",
              "    }\n",
              "\n",
              "    .dataframe thead th {\n",
              "        text-align: right;\n",
              "    }\n",
              "</style>\n",
              "<table border=\"1\" class=\"dataframe\">\n",
              "  <thead>\n",
              "    <tr style=\"text-align: right;\">\n",
              "      <th></th>\n",
              "      <th>rank_test_score</th>\n",
              "      <th>params</th>\n",
              "      <th>mean_test_score</th>\n",
              "      <th>mean_train_score</th>\n",
              "    </tr>\n",
              "  </thead>\n",
              "  <tbody>\n",
              "    <tr>\n",
              "      <th>59</th>\n",
              "      <td>1</td>\n",
              "      <td>{'activation': 'relu', 'alpha': 0.01, 'hidden_...</td>\n",
              "      <td>0.9099</td>\n",
              "      <td>0.9036</td>\n",
              "    </tr>\n",
              "    <tr>\n",
              "      <th>69</th>\n",
              "      <td>2</td>\n",
              "      <td>{'activation': 'relu', 'alpha': 0.1, 'hidden_l...</td>\n",
              "      <td>0.9089</td>\n",
              "      <td>0.9123</td>\n",
              "    </tr>\n",
              "    <tr>\n",
              "      <th>53</th>\n",
              "      <td>3</td>\n",
              "      <td>{'activation': 'relu', 'alpha': 0.001, 'hidden...</td>\n",
              "      <td>0.9060</td>\n",
              "      <td>0.9095</td>\n",
              "    </tr>\n",
              "    <tr>\n",
              "      <th>51</th>\n",
              "      <td>4</td>\n",
              "      <td>{'activation': 'relu', 'alpha': 0.001, 'hidden...</td>\n",
              "      <td>0.9055</td>\n",
              "      <td>0.9100</td>\n",
              "    </tr>\n",
              "    <tr>\n",
              "      <th>61</th>\n",
              "      <td>5</td>\n",
              "      <td>{'activation': 'relu', 'alpha': 0.01, 'hidden_...</td>\n",
              "      <td>0.9050</td>\n",
              "      <td>0.9081</td>\n",
              "    </tr>\n",
              "    <tr>\n",
              "      <th>...</th>\n",
              "      <td>...</td>\n",
              "      <td>...</td>\n",
              "      <td>...</td>\n",
              "      <td>...</td>\n",
              "    </tr>\n",
              "    <tr>\n",
              "      <th>20</th>\n",
              "      <td>23</td>\n",
              "      <td>{'activation': 'logistic', 'alpha': 0.1, 'hidd...</td>\n",
              "      <td>0.8905</td>\n",
              "      <td>0.8905</td>\n",
              "    </tr>\n",
              "    <tr>\n",
              "      <th>25</th>\n",
              "      <td>23</td>\n",
              "      <td>{'activation': 'tanh', 'alpha': 0.001, 'hidden...</td>\n",
              "      <td>0.8905</td>\n",
              "      <td>0.8905</td>\n",
              "    </tr>\n",
              "    <tr>\n",
              "      <th>35</th>\n",
              "      <td>23</td>\n",
              "      <td>{'activation': 'tanh', 'alpha': 0.01, 'hidden_...</td>\n",
              "      <td>0.8905</td>\n",
              "      <td>0.8906</td>\n",
              "    </tr>\n",
              "    <tr>\n",
              "      <th>52</th>\n",
              "      <td>71</td>\n",
              "      <td>{'activation': 'relu', 'alpha': 0.001, 'hidden...</td>\n",
              "      <td>0.8900</td>\n",
              "      <td>0.8941</td>\n",
              "    </tr>\n",
              "    <tr>\n",
              "      <th>7</th>\n",
              "      <td>72</td>\n",
              "      <td>{'activation': 'logistic', 'alpha': 0.001, 'hi...</td>\n",
              "      <td>0.8737</td>\n",
              "      <td>0.8783</td>\n",
              "    </tr>\n",
              "  </tbody>\n",
              "</table>\n",
              "<p>72 rows × 4 columns</p>\n",
              "</div>"
            ],
            "application/vnd.google.colaboratory.module+javascript": "\n      import \"https://ssl.gstatic.com/colaboratory/data_table/a8bd4d5e58f96183/data_table.js\";\n\n      window.createDataTable({\n        data: [[{\n            'v': 59,\n            'f': \"59\",\n        },\n{\n            'v': 1,\n            'f': \"1\",\n        },\n\"{'activation': 'relu', 'alpha': 0.01, 'hidden_layer_sizes': (10, 10), 'learning_rate_init': 0.01}\",\n{\n            'v': 0.9099,\n            'f': \"0.9099\",\n        },\n{\n            'v': 0.9036,\n            'f': \"0.9036\",\n        }],\n [{\n            'v': 69,\n            'f': \"69\",\n        },\n{\n            'v': 2,\n            'f': \"2\",\n        },\n\"{'activation': 'relu', 'alpha': 0.1, 'hidden_layer_sizes': (20, 20, 20), 'learning_rate_init': 0.01}\",\n{\n            'v': 0.9089,\n            'f': \"0.9089\",\n        },\n{\n            'v': 0.9123,\n            'f': \"0.9123\",\n        }],\n [{\n            'v': 53,\n            'f': \"53\",\n        },\n{\n            'v': 3,\n            'f': \"3\",\n        },\n\"{'activation': 'relu', 'alpha': 0.001, 'hidden_layer_sizes': (20, 20, 20), 'learning_rate_init': 0.01}\",\n{\n            'v': 0.906,\n            'f': \"0.906\",\n        },\n{\n            'v': 0.9095,\n            'f': \"0.9095\",\n        }],\n [{\n            'v': 51,\n            'f': \"51\",\n        },\n{\n            'v': 4,\n            'f': \"4\",\n        },\n\"{'activation': 'relu', 'alpha': 0.001, 'hidden_layer_sizes': (10, 10), 'learning_rate_init': 0.01}\",\n{\n            'v': 0.9055,\n            'f': \"0.9055\",\n        },\n{\n            'v': 0.91,\n            'f': \"0.91\",\n        }],\n [{\n            'v': 61,\n            'f': \"61\",\n        },\n{\n            'v': 5,\n            'f': \"5\",\n        },\n\"{'activation': 'relu', 'alpha': 0.01, 'hidden_layer_sizes': (20, 20, 20), 'learning_rate_init': 0.01}\",\n{\n            'v': 0.905,\n            'f': \"0.905\",\n        },\n{\n            'v': 0.9081,\n            'f': \"0.9081\",\n        }],\n [{\n            'v': 55,\n            'f': \"55\",\n        },\n{\n            'v': 6,\n            'f': \"6\",\n        },\n\"{'activation': 'relu', 'alpha': 0.001, 'hidden_layer_sizes': (30, 10, 10), 'learning_rate_init': 0.01}\",\n{\n            'v': 0.9014,\n            'f': \"0.9014\",\n        },\n{\n            'v': 0.9039,\n            'f': \"0.9039\",\n        }],\n [{\n            'v': 63,\n            'f': \"63\",\n        },\n{\n            'v': 7,\n            'f': \"7\",\n        },\n\"{'activation': 'relu', 'alpha': 0.01, 'hidden_layer_sizes': (30, 10, 10), 'learning_rate_init': 0.01}\",\n{\n            'v': 0.9004,\n            'f': \"0.9004\",\n        },\n{\n            'v': 0.9071,\n            'f': \"0.9071\",\n        }],\n [{\n            'v': 71,\n            'f': \"71\",\n        },\n{\n            'v': 8,\n            'f': \"8\",\n        },\n\"{'activation': 'relu', 'alpha': 0.1, 'hidden_layer_sizes': (30, 10, 10), 'learning_rate_init': 0.01}\",\n{\n            'v': 0.8997,\n            'f': \"0.8997\",\n        },\n{\n            'v': 0.9058,\n            'f': \"0.9058\",\n        }],\n [{\n            'v': 57,\n            'f': \"57\",\n        },\n{\n            'v': 9,\n            'f': \"9\",\n        },\n\"{'activation': 'relu', 'alpha': 0.01, 'hidden_layer_sizes': (5, 5), 'learning_rate_init': 0.01}\",\n{\n            'v': 0.898,\n            'f': \"0.898\",\n        },\n{\n            'v': 0.9056,\n            'f': \"0.9056\",\n        }],\n [{\n            'v': 49,\n            'f': \"49\",\n        },\n{\n            'v': 10,\n            'f': \"10\",\n        },\n\"{'activation': 'relu', 'alpha': 0.001, 'hidden_layer_sizes': (5, 5), 'learning_rate_init': 0.01}\",\n{\n            'v': 0.897,\n            'f': \"0.897\",\n        },\n{\n            'v': 0.9028,\n            'f': \"0.9028\",\n        }],\n [{\n            'v': 37,\n            'f': \"37\",\n        },\n{\n            'v': 11,\n            'f': \"11\",\n        },\n\"{'activation': 'tanh', 'alpha': 0.01, 'hidden_layer_sizes': (20, 20, 20), 'learning_rate_init': 0.01}\",\n{\n            'v': 0.8965,\n            'f': \"0.8965\",\n        },\n{\n            'v': 0.896,\n            'f': \"0.896\",\n        }],\n [{\n            'v': 27,\n            'f': \"27\",\n        },\n{\n            'v': 12,\n            'f': \"12\",\n        },\n\"{'activation': 'tanh', 'alpha': 0.001, 'hidden_layer_sizes': (10, 10), 'learning_rate_init': 0.01}\",\n{\n            'v': 0.8941,\n            'f': \"0.8941\",\n        },\n{\n            'v': 0.8929,\n            'f': \"0.8929\",\n        }],\n [{\n            'v': 47,\n            'f': \"47\",\n        },\n{\n            'v': 13,\n            'f': \"13\",\n        },\n\"{'activation': 'tanh', 'alpha': 0.1, 'hidden_layer_sizes': (30, 10, 10), 'learning_rate_init': 0.01}\",\n{\n            'v': 0.8941,\n            'f': \"0.8941\",\n        },\n{\n            'v': 0.8912,\n            'f': \"0.8912\",\n        }],\n [{\n            'v': 33,\n            'f': \"33\",\n        },\n{\n            'v': 14,\n            'f': \"14\",\n        },\n\"{'activation': 'tanh', 'alpha': 0.01, 'hidden_layer_sizes': (5, 5), 'learning_rate_init': 0.01}\",\n{\n            'v': 0.8939,\n            'f': \"0.8939\",\n        },\n{\n            'v': 0.8945,\n            'f': \"0.8945\",\n        }],\n [{\n            'v': 65,\n            'f': \"65\",\n        },\n{\n            'v': 15,\n            'f': \"15\",\n        },\n\"{'activation': 'relu', 'alpha': 0.1, 'hidden_layer_sizes': (5, 5), 'learning_rate_init': 0.01}\",\n{\n            'v': 0.8934,\n            'f': \"0.8934\",\n        },\n{\n            'v': 0.8999,\n            'f': \"0.8999\",\n        }],\n [{\n            'v': 15,\n            'f': \"15\",\n        },\n{\n            'v': 16,\n            'f': \"16\",\n        },\n\"{'activation': 'logistic', 'alpha': 0.01, 'hidden_layer_sizes': (30, 10, 10), 'learning_rate_init': 0.01}\",\n{\n            'v': 0.8931,\n            'f': \"0.8931\",\n        },\n{\n            'v': 0.8943,\n            'f': \"0.8943\",\n        }],\n [{\n            'v': 5,\n            'f': \"5\",\n        },\n{\n            'v': 17,\n            'f': \"17\",\n        },\n\"{'activation': 'logistic', 'alpha': 0.001, 'hidden_layer_sizes': (20, 20, 20), 'learning_rate_init': 0.01}\",\n{\n            'v': 0.8924,\n            'f': \"0.8924\",\n        },\n{\n            'v': 0.894,\n            'f': \"0.894\",\n        }],\n [{\n            'v': 29,\n            'f': \"29\",\n        },\n{\n            'v': 18,\n            'f': \"18\",\n        },\n\"{'activation': 'tanh', 'alpha': 0.001, 'hidden_layer_sizes': (20, 20, 20), 'learning_rate_init': 0.01}\",\n{\n            'v': 0.8919,\n            'f': \"0.8919\",\n        },\n{\n            'v': 0.8928,\n            'f': \"0.8928\",\n        }],\n [{\n            'v': 39,\n            'f': \"39\",\n        },\n{\n            'v': 19,\n            'f': \"19\",\n        },\n\"{'activation': 'tanh', 'alpha': 0.01, 'hidden_layer_sizes': (30, 10, 10), 'learning_rate_init': 0.01}\",\n{\n            'v': 0.8917,\n            'f': \"0.8917\",\n        },\n{\n            'v': 0.8926,\n            'f': \"0.8926\",\n        }],\n [{\n            'v': 31,\n            'f': \"31\",\n        },\n{\n            'v': 20,\n            'f': \"20\",\n        },\n\"{'activation': 'tanh', 'alpha': 0.001, 'hidden_layer_sizes': (30, 10, 10), 'learning_rate_init': 0.01}\",\n{\n            'v': 0.8917,\n            'f': \"0.8917\",\n        },\n{\n            'v': 0.8931,\n            'f': \"0.8931\",\n        }],\n [{\n            'v': 41,\n            'f': \"41\",\n        },\n{\n            'v': 21,\n            'f': \"21\",\n        },\n\"{'activation': 'tanh', 'alpha': 0.1, 'hidden_layer_sizes': (5, 5), 'learning_rate_init': 0.01}\",\n{\n            'v': 0.8912,\n            'f': \"0.8912\",\n        },\n{\n            'v': 0.8927,\n            'f': \"0.8927\",\n        }],\n [{\n            'v': 67,\n            'f': \"67\",\n        },\n{\n            'v': 22,\n            'f': \"22\",\n        },\n\"{'activation': 'relu', 'alpha': 0.1, 'hidden_layer_sizes': (10, 10), 'learning_rate_init': 0.01}\",\n{\n            'v': 0.8912,\n            'f': \"0.8912\",\n        },\n{\n            'v': 0.8925,\n            'f': \"0.8925\",\n        }],\n [{\n            'v': 40,\n            'f': \"40\",\n        },\n{\n            'v': 23,\n            'f': \"23\",\n        },\n\"{'activation': 'tanh', 'alpha': 0.1, 'hidden_layer_sizes': (5, 5), 'learning_rate_init': 0.1}\",\n{\n            'v': 0.8905,\n            'f': \"0.8905\",\n        },\n{\n            'v': 0.8905,\n            'f': \"0.8905\",\n        }],\n [{\n            'v': 42,\n            'f': \"42\",\n        },\n{\n            'v': 23,\n            'f': \"23\",\n        },\n\"{'activation': 'tanh', 'alpha': 0.1, 'hidden_layer_sizes': (10, 10), 'learning_rate_init': 0.1}\",\n{\n            'v': 0.8905,\n            'f': \"0.8905\",\n        },\n{\n            'v': 0.8905,\n            'f': \"0.8905\",\n        }],\n [{\n            'v': 43,\n            'f': \"43\",\n        },\n{\n            'v': 23,\n            'f': \"23\",\n        },\n\"{'activation': 'tanh', 'alpha': 0.1, 'hidden_layer_sizes': (10, 10), 'learning_rate_init': 0.01}\",\n{\n            'v': 0.8905,\n            'f': \"0.8905\",\n        },\n{\n            'v': 0.8909,\n            'f': \"0.8909\",\n        }],\n [{\n            'v': 44,\n            'f': \"44\",\n        },\n{\n            'v': 23,\n            'f': \"23\",\n        },\n\"{'activation': 'tanh', 'alpha': 0.1, 'hidden_layer_sizes': (20, 20, 20), 'learning_rate_init': 0.1}\",\n{\n            'v': 0.8905,\n            'f': \"0.8905\",\n        },\n{\n            'v': 0.8905,\n            'f': \"0.8905\",\n        }],\n [{\n            'v': 60,\n            'f': \"60\",\n        },\n{\n            'v': 23,\n            'f': \"23\",\n        },\n\"{'activation': 'relu', 'alpha': 0.01, 'hidden_layer_sizes': (20, 20, 20), 'learning_rate_init': 0.1}\",\n{\n            'v': 0.8905,\n            'f': \"0.8905\",\n        },\n{\n            'v': 0.8905,\n            'f': \"0.8905\",\n        }],\n [{\n            'v': 46,\n            'f': \"46\",\n        },\n{\n            'v': 23,\n            'f': \"23\",\n        },\n\"{'activation': 'tanh', 'alpha': 0.1, 'hidden_layer_sizes': (30, 10, 10), 'learning_rate_init': 0.1}\",\n{\n            'v': 0.8905,\n            'f': \"0.8905\",\n        },\n{\n            'v': 0.8905,\n            'f': \"0.8905\",\n        }],\n [{\n            'v': 62,\n            'f': \"62\",\n        },\n{\n            'v': 23,\n            'f': \"23\",\n        },\n\"{'activation': 'relu', 'alpha': 0.01, 'hidden_layer_sizes': (30, 10, 10), 'learning_rate_init': 0.1}\",\n{\n            'v': 0.8905,\n            'f': \"0.8905\",\n        },\n{\n            'v': 0.8905,\n            'f': \"0.8905\",\n        }],\n [{\n            'v': 48,\n            'f': \"48\",\n        },\n{\n            'v': 23,\n            'f': \"23\",\n        },\n\"{'activation': 'relu', 'alpha': 0.001, 'hidden_layer_sizes': (5, 5), 'learning_rate_init': 0.1}\",\n{\n            'v': 0.8905,\n            'f': \"0.8905\",\n        },\n{\n            'v': 0.8905,\n            'f': \"0.8905\",\n        }],\n [{\n            'v': 68,\n            'f': \"68\",\n        },\n{\n            'v': 23,\n            'f': \"23\",\n        },\n\"{'activation': 'relu', 'alpha': 0.1, 'hidden_layer_sizes': (20, 20, 20), 'learning_rate_init': 0.1}\",\n{\n            'v': 0.8905,\n            'f': \"0.8905\",\n        },\n{\n            'v': 0.8905,\n            'f': \"0.8905\",\n        }],\n [{\n            'v': 50,\n            'f': \"50\",\n        },\n{\n            'v': 23,\n            'f': \"23\",\n        },\n\"{'activation': 'relu', 'alpha': 0.001, 'hidden_layer_sizes': (10, 10), 'learning_rate_init': 0.1}\",\n{\n            'v': 0.8905,\n            'f': \"0.8905\",\n        },\n{\n            'v': 0.8905,\n            'f': \"0.8905\",\n        }],\n [{\n            'v': 66,\n            'f': \"66\",\n        },\n{\n            'v': 23,\n            'f': \"23\",\n        },\n\"{'activation': 'relu', 'alpha': 0.1, 'hidden_layer_sizes': (10, 10), 'learning_rate_init': 0.1}\",\n{\n            'v': 0.8905,\n            'f': \"0.8905\",\n        },\n{\n            'v': 0.8905,\n            'f': \"0.8905\",\n        }],\n [{\n            'v': 56,\n            'f': \"56\",\n        },\n{\n            'v': 23,\n            'f': \"23\",\n        },\n\"{'activation': 'relu', 'alpha': 0.01, 'hidden_layer_sizes': (5, 5), 'learning_rate_init': 0.1}\",\n{\n            'v': 0.8905,\n            'f': \"0.8905\",\n        },\n{\n            'v': 0.8905,\n            'f': \"0.8905\",\n        }],\n [{\n            'v': 58,\n            'f': \"58\",\n        },\n{\n            'v': 23,\n            'f': \"23\",\n        },\n\"{'activation': 'relu', 'alpha': 0.01, 'hidden_layer_sizes': (10, 10), 'learning_rate_init': 0.1}\",\n{\n            'v': 0.8905,\n            'f': \"0.8905\",\n        },\n{\n            'v': 0.8905,\n            'f': \"0.8905\",\n        }],\n [{\n            'v': 64,\n            'f': \"64\",\n        },\n{\n            'v': 23,\n            'f': \"23\",\n        },\n\"{'activation': 'relu', 'alpha': 0.1, 'hidden_layer_sizes': (5, 5), 'learning_rate_init': 0.1}\",\n{\n            'v': 0.8905,\n            'f': \"0.8905\",\n        },\n{\n            'v': 0.8905,\n            'f': \"0.8905\",\n        }],\n [{\n            'v': 45,\n            'f': \"45\",\n        },\n{\n            'v': 23,\n            'f': \"23\",\n        },\n\"{'activation': 'tanh', 'alpha': 0.1, 'hidden_layer_sizes': (20, 20, 20), 'learning_rate_init': 0.01}\",\n{\n            'v': 0.8905,\n            'f': \"0.8905\",\n        },\n{\n            'v': 0.8905,\n            'f': \"0.8905\",\n        }],\n [{\n            'v': 54,\n            'f': \"54\",\n        },\n{\n            'v': 23,\n            'f': \"23\",\n        },\n\"{'activation': 'relu', 'alpha': 0.001, 'hidden_layer_sizes': (30, 10, 10), 'learning_rate_init': 0.1}\",\n{\n            'v': 0.8905,\n            'f': \"0.8905\",\n        },\n{\n            'v': 0.8905,\n            'f': \"0.8905\",\n        }],\n [{\n            'v': 0,\n            'f': \"0\",\n        },\n{\n            'v': 23,\n            'f': \"23\",\n        },\n\"{'activation': 'logistic', 'alpha': 0.001, 'hidden_layer_sizes': (5, 5), 'learning_rate_init': 0.1}\",\n{\n            'v': 0.8905,\n            'f': \"0.8905\",\n        },\n{\n            'v': 0.8905,\n            'f': \"0.8905\",\n        }],\n [{\n            'v': 36,\n            'f': \"36\",\n        },\n{\n            'v': 23,\n            'f': \"23\",\n        },\n\"{'activation': 'tanh', 'alpha': 0.01, 'hidden_layer_sizes': (20, 20, 20), 'learning_rate_init': 0.1}\",\n{\n            'v': 0.8905,\n            'f': \"0.8905\",\n        },\n{\n            'v': 0.8905,\n            'f': \"0.8905\",\n        }],\n [{\n            'v': 1,\n            'f': \"1\",\n        },\n{\n            'v': 23,\n            'f': \"23\",\n        },\n\"{'activation': 'logistic', 'alpha': 0.001, 'hidden_layer_sizes': (5, 5), 'learning_rate_init': 0.01}\",\n{\n            'v': 0.8905,\n            'f': \"0.8905\",\n        },\n{\n            'v': 0.8905,\n            'f': \"0.8905\",\n        }],\n [{\n            'v': 2,\n            'f': \"2\",\n        },\n{\n            'v': 23,\n            'f': \"23\",\n        },\n\"{'activation': 'logistic', 'alpha': 0.001, 'hidden_layer_sizes': (10, 10), 'learning_rate_init': 0.1}\",\n{\n            'v': 0.8905,\n            'f': \"0.8905\",\n        },\n{\n            'v': 0.8905,\n            'f': \"0.8905\",\n        }],\n [{\n            'v': 3,\n            'f': \"3\",\n        },\n{\n            'v': 23,\n            'f': \"23\",\n        },\n\"{'activation': 'logistic', 'alpha': 0.001, 'hidden_layer_sizes': (10, 10), 'learning_rate_init': 0.01}\",\n{\n            'v': 0.8905,\n            'f': \"0.8905\",\n        },\n{\n            'v': 0.8905,\n            'f': \"0.8905\",\n        }],\n [{\n            'v': 4,\n            'f': \"4\",\n        },\n{\n            'v': 23,\n            'f': \"23\",\n        },\n\"{'activation': 'logistic', 'alpha': 0.001, 'hidden_layer_sizes': (20, 20, 20), 'learning_rate_init': 0.1}\",\n{\n            'v': 0.8905,\n            'f': \"0.8905\",\n        },\n{\n            'v': 0.8905,\n            'f': \"0.8905\",\n        }],\n [{\n            'v': 6,\n            'f': \"6\",\n        },\n{\n            'v': 23,\n            'f': \"23\",\n        },\n\"{'activation': 'logistic', 'alpha': 0.001, 'hidden_layer_sizes': (30, 10, 10), 'learning_rate_init': 0.1}\",\n{\n            'v': 0.8905,\n            'f': \"0.8905\",\n        },\n{\n            'v': 0.8905,\n            'f': \"0.8905\",\n        }],\n [{\n            'v': 8,\n            'f': \"8\",\n        },\n{\n            'v': 23,\n            'f': \"23\",\n        },\n\"{'activation': 'logistic', 'alpha': 0.01, 'hidden_layer_sizes': (5, 5), 'learning_rate_init': 0.1}\",\n{\n            'v': 0.8905,\n            'f': \"0.8905\",\n        },\n{\n            'v': 0.8905,\n            'f': \"0.8905\",\n        }],\n [{\n            'v': 9,\n            'f': \"9\",\n        },\n{\n            'v': 23,\n            'f': \"23\",\n        },\n\"{'activation': 'logistic', 'alpha': 0.01, 'hidden_layer_sizes': (5, 5), 'learning_rate_init': 0.01}\",\n{\n            'v': 0.8905,\n            'f': \"0.8905\",\n        },\n{\n            'v': 0.8905,\n            'f': \"0.8905\",\n        }],\n [{\n            'v': 10,\n            'f': \"10\",\n        },\n{\n            'v': 23,\n            'f': \"23\",\n        },\n\"{'activation': 'logistic', 'alpha': 0.01, 'hidden_layer_sizes': (10, 10), 'learning_rate_init': 0.1}\",\n{\n            'v': 0.8905,\n            'f': \"0.8905\",\n        },\n{\n            'v': 0.8905,\n            'f': \"0.8905\",\n        }],\n [{\n            'v': 11,\n            'f': \"11\",\n        },\n{\n            'v': 23,\n            'f': \"23\",\n        },\n\"{'activation': 'logistic', 'alpha': 0.01, 'hidden_layer_sizes': (10, 10), 'learning_rate_init': 0.01}\",\n{\n            'v': 0.8905,\n            'f': \"0.8905\",\n        },\n{\n            'v': 0.8905,\n            'f': \"0.8905\",\n        }],\n [{\n            'v': 12,\n            'f': \"12\",\n        },\n{\n            'v': 23,\n            'f': \"23\",\n        },\n\"{'activation': 'logistic', 'alpha': 0.01, 'hidden_layer_sizes': (20, 20, 20), 'learning_rate_init': 0.1}\",\n{\n            'v': 0.8905,\n            'f': \"0.8905\",\n        },\n{\n            'v': 0.8905,\n            'f': \"0.8905\",\n        }],\n [{\n            'v': 13,\n            'f': \"13\",\n        },\n{\n            'v': 23,\n            'f': \"23\",\n        },\n\"{'activation': 'logistic', 'alpha': 0.01, 'hidden_layer_sizes': (20, 20, 20), 'learning_rate_init': 0.01}\",\n{\n            'v': 0.8905,\n            'f': \"0.8905\",\n        },\n{\n            'v': 0.8922,\n            'f': \"0.8922\",\n        }],\n [{\n            'v': 14,\n            'f': \"14\",\n        },\n{\n            'v': 23,\n            'f': \"23\",\n        },\n\"{'activation': 'logistic', 'alpha': 0.01, 'hidden_layer_sizes': (30, 10, 10), 'learning_rate_init': 0.1}\",\n{\n            'v': 0.8905,\n            'f': \"0.8905\",\n        },\n{\n            'v': 0.8905,\n            'f': \"0.8905\",\n        }],\n [{\n            'v': 16,\n            'f': \"16\",\n        },\n{\n            'v': 23,\n            'f': \"23\",\n        },\n\"{'activation': 'logistic', 'alpha': 0.1, 'hidden_layer_sizes': (5, 5), 'learning_rate_init': 0.1}\",\n{\n            'v': 0.8905,\n            'f': \"0.8905\",\n        },\n{\n            'v': 0.8905,\n            'f': \"0.8905\",\n        }],\n [{\n            'v': 38,\n            'f': \"38\",\n        },\n{\n            'v': 23,\n            'f': \"23\",\n        },\n\"{'activation': 'tanh', 'alpha': 0.01, 'hidden_layer_sizes': (30, 10, 10), 'learning_rate_init': 0.1}\",\n{\n            'v': 0.8905,\n            'f': \"0.8905\",\n        },\n{\n            'v': 0.8905,\n            'f': \"0.8905\",\n        }],\n [{\n            'v': 17,\n            'f': \"17\",\n        },\n{\n            'v': 23,\n            'f': \"23\",\n        },\n\"{'activation': 'logistic', 'alpha': 0.1, 'hidden_layer_sizes': (5, 5), 'learning_rate_init': 0.01}\",\n{\n            'v': 0.8905,\n            'f': \"0.8905\",\n        },\n{\n            'v': 0.8905,\n            'f': \"0.8905\",\n        }],\n [{\n            'v': 19,\n            'f': \"19\",\n        },\n{\n            'v': 23,\n            'f': \"23\",\n        },\n\"{'activation': 'logistic', 'alpha': 0.1, 'hidden_layer_sizes': (10, 10), 'learning_rate_init': 0.01}\",\n{\n            'v': 0.8905,\n            'f': \"0.8905\",\n        },\n{\n            'v': 0.8905,\n            'f': \"0.8905\",\n        }],\n [{\n            'v': 70,\n            'f': \"70\",\n        },\n{\n            'v': 23,\n            'f': \"23\",\n        },\n\"{'activation': 'relu', 'alpha': 0.1, 'hidden_layer_sizes': (30, 10, 10), 'learning_rate_init': 0.1}\",\n{\n            'v': 0.8905,\n            'f': \"0.8905\",\n        },\n{\n            'v': 0.8905,\n            'f': \"0.8905\",\n        }],\n [{\n            'v': 34,\n            'f': \"34\",\n        },\n{\n            'v': 23,\n            'f': \"23\",\n        },\n\"{'activation': 'tanh', 'alpha': 0.01, 'hidden_layer_sizes': (10, 10), 'learning_rate_init': 0.1}\",\n{\n            'v': 0.8905,\n            'f': \"0.8905\",\n        },\n{\n            'v': 0.8905,\n            'f': \"0.8905\",\n        }],\n [{\n            'v': 32,\n            'f': \"32\",\n        },\n{\n            'v': 23,\n            'f': \"23\",\n        },\n\"{'activation': 'tanh', 'alpha': 0.01, 'hidden_layer_sizes': (5, 5), 'learning_rate_init': 0.1}\",\n{\n            'v': 0.8905,\n            'f': \"0.8905\",\n        },\n{\n            'v': 0.8905,\n            'f': \"0.8905\",\n        }],\n [{\n            'v': 30,\n            'f': \"30\",\n        },\n{\n            'v': 23,\n            'f': \"23\",\n        },\n\"{'activation': 'tanh', 'alpha': 0.001, 'hidden_layer_sizes': (30, 10, 10), 'learning_rate_init': 0.1}\",\n{\n            'v': 0.8905,\n            'f': \"0.8905\",\n        },\n{\n            'v': 0.8905,\n            'f': \"0.8905\",\n        }],\n [{\n            'v': 28,\n            'f': \"28\",\n        },\n{\n            'v': 23,\n            'f': \"23\",\n        },\n\"{'activation': 'tanh', 'alpha': 0.001, 'hidden_layer_sizes': (20, 20, 20), 'learning_rate_init': 0.1}\",\n{\n            'v': 0.8905,\n            'f': \"0.8905\",\n        },\n{\n            'v': 0.8905,\n            'f': \"0.8905\",\n        }],\n [{\n            'v': 18,\n            'f': \"18\",\n        },\n{\n            'v': 23,\n            'f': \"23\",\n        },\n\"{'activation': 'logistic', 'alpha': 0.1, 'hidden_layer_sizes': (10, 10), 'learning_rate_init': 0.1}\",\n{\n            'v': 0.8905,\n            'f': \"0.8905\",\n        },\n{\n            'v': 0.8905,\n            'f': \"0.8905\",\n        }],\n [{\n            'v': 26,\n            'f': \"26\",\n        },\n{\n            'v': 23,\n            'f': \"23\",\n        },\n\"{'activation': 'tanh', 'alpha': 0.001, 'hidden_layer_sizes': (10, 10), 'learning_rate_init': 0.1}\",\n{\n            'v': 0.8905,\n            'f': \"0.8905\",\n        },\n{\n            'v': 0.8905,\n            'f': \"0.8905\",\n        }],\n [{\n            'v': 24,\n            'f': \"24\",\n        },\n{\n            'v': 23,\n            'f': \"23\",\n        },\n\"{'activation': 'tanh', 'alpha': 0.001, 'hidden_layer_sizes': (5, 5), 'learning_rate_init': 0.1}\",\n{\n            'v': 0.8905,\n            'f': \"0.8905\",\n        },\n{\n            'v': 0.8905,\n            'f': \"0.8905\",\n        }],\n [{\n            'v': 23,\n            'f': \"23\",\n        },\n{\n            'v': 23,\n            'f': \"23\",\n        },\n\"{'activation': 'logistic', 'alpha': 0.1, 'hidden_layer_sizes': (30, 10, 10), 'learning_rate_init': 0.01}\",\n{\n            'v': 0.8905,\n            'f': \"0.8905\",\n        },\n{\n            'v': 0.8905,\n            'f': \"0.8905\",\n        }],\n [{\n            'v': 22,\n            'f': \"22\",\n        },\n{\n            'v': 23,\n            'f': \"23\",\n        },\n\"{'activation': 'logistic', 'alpha': 0.1, 'hidden_layer_sizes': (30, 10, 10), 'learning_rate_init': 0.1}\",\n{\n            'v': 0.8905,\n            'f': \"0.8905\",\n        },\n{\n            'v': 0.8905,\n            'f': \"0.8905\",\n        }],\n [{\n            'v': 21,\n            'f': \"21\",\n        },\n{\n            'v': 23,\n            'f': \"23\",\n        },\n\"{'activation': 'logistic', 'alpha': 0.1, 'hidden_layer_sizes': (20, 20, 20), 'learning_rate_init': 0.01}\",\n{\n            'v': 0.8905,\n            'f': \"0.8905\",\n        },\n{\n            'v': 0.8905,\n            'f': \"0.8905\",\n        }],\n [{\n            'v': 20,\n            'f': \"20\",\n        },\n{\n            'v': 23,\n            'f': \"23\",\n        },\n\"{'activation': 'logistic', 'alpha': 0.1, 'hidden_layer_sizes': (20, 20, 20), 'learning_rate_init': 0.1}\",\n{\n            'v': 0.8905,\n            'f': \"0.8905\",\n        },\n{\n            'v': 0.8905,\n            'f': \"0.8905\",\n        }],\n [{\n            'v': 25,\n            'f': \"25\",\n        },\n{\n            'v': 23,\n            'f': \"23\",\n        },\n\"{'activation': 'tanh', 'alpha': 0.001, 'hidden_layer_sizes': (5, 5), 'learning_rate_init': 0.01}\",\n{\n            'v': 0.8905,\n            'f': \"0.8905\",\n        },\n{\n            'v': 0.8905,\n            'f': \"0.8905\",\n        }],\n [{\n            'v': 35,\n            'f': \"35\",\n        },\n{\n            'v': 23,\n            'f': \"23\",\n        },\n\"{'activation': 'tanh', 'alpha': 0.01, 'hidden_layer_sizes': (10, 10), 'learning_rate_init': 0.01}\",\n{\n            'v': 0.8905,\n            'f': \"0.8905\",\n        },\n{\n            'v': 0.8906,\n            'f': \"0.8906\",\n        }],\n [{\n            'v': 52,\n            'f': \"52\",\n        },\n{\n            'v': 71,\n            'f': \"71\",\n        },\n\"{'activation': 'relu', 'alpha': 0.001, 'hidden_layer_sizes': (20, 20, 20), 'learning_rate_init': 0.1}\",\n{\n            'v': 0.89,\n            'f': \"0.89\",\n        },\n{\n            'v': 0.8941,\n            'f': \"0.8941\",\n        }],\n [{\n            'v': 7,\n            'f': \"7\",\n        },\n{\n            'v': 72,\n            'f': \"72\",\n        },\n\"{'activation': 'logistic', 'alpha': 0.001, 'hidden_layer_sizes': (30, 10, 10), 'learning_rate_init': 0.01}\",\n{\n            'v': 0.8737,\n            'f': \"0.8737\",\n        },\n{\n            'v': 0.8783,\n            'f': \"0.8783\",\n        }]],\n        columns: [[\"number\", \"index\"], [\"number\", \"rank_test_score\"], [\"string\", \"params\"], [\"number\", \"mean_test_score\"], [\"number\", \"mean_train_score\"]],\n        columnOptions: [{\"width\": \"1px\", \"className\": \"index_column\"}],\n        rowsPerPage: 25,\n        helpUrl: \"https://colab.research.google.com/notebooks/data_table.ipynb\",\n        suppressOutputScrolling: true,\n        minimumWidth: undefined,\n      });\n    ",
            "text/plain": [
              "<google.colab.data_table.DataTable object>"
            ]
          },
          "metadata": {},
          "execution_count": 30
        }
      ]
    },
    {
      "cell_type": "markdown",
      "metadata": {
        "id": "BG06VTQO3sSJ"
      },
      "source": [
        "# Task 5\n"
      ]
    },
    {
      "cell_type": "markdown",
      "metadata": {
        "id": "qyndpkYK40vj"
      },
      "source": [
        "### 1. Using GridSearchCV (use scoring of 'accuracy' explore at least 40 hyperparameter combinations of C and kernel for the SVC classifier"
      ]
    },
    {
      "cell_type": "code",
      "source": [
        "parameters = {'C':[5,10,15,20,25,30,35,40,45,50,55,60,65,70,75,80,85,90,95,100],\n",
        "              'kernel':['rbf','sigmoid']\n",
        "              }\n",
        "svc_sequential = SVC(random_state=2021)\n",
        "svc = GridSearchCV(svc_sequential, parameters,scoring='accuracy',return_train_score=True,cv=5)\n",
        "svc.fit(X, y_target)"
      ],
      "metadata": {
        "colab": {
          "base_uri": "https://localhost:8080/"
        },
        "id": "t9zCw2zatl6m",
        "outputId": "c4d3646b-9aa5-49fd-80f0-510d25587b51"
      },
      "execution_count": null,
      "outputs": [
        {
          "output_type": "execute_result",
          "data": {
            "text/plain": [
              "GridSearchCV(cv=5, estimator=SVC(random_state=2021),\n",
              "             param_grid={'C': [5, 10, 15, 20, 25, 30, 35, 40, 45, 50, 55, 60,\n",
              "                               65, 70, 75, 80, 85, 90, 95, 100],\n",
              "                         'kernel': ['rbf', 'sigmoid']},\n",
              "             return_train_score=True, scoring='accuracy')"
            ]
          },
          "metadata": {},
          "execution_count": 33
        }
      ]
    },
    {
      "cell_type": "markdown",
      "metadata": {
        "id": "kGy8jCUySBEv"
      },
      "source": [
        "### 2. Show the top 5 results in a dataframe sorted by rank."
      ]
    },
    {
      "cell_type": "code",
      "execution_count": null,
      "metadata": {
        "id": "GUB1pJqT3eqC",
        "colab": {
          "base_uri": "https://localhost:8080/",
          "height": 637
        },
        "outputId": "93662307-1a20-4844-dd11-78c42871539f"
      },
      "outputs": [
        {
          "output_type": "execute_result",
          "data": {
            "text/html": [
              "<div>\n",
              "<style scoped>\n",
              "    .dataframe tbody tr th:only-of-type {\n",
              "        vertical-align: middle;\n",
              "    }\n",
              "\n",
              "    .dataframe tbody tr th {\n",
              "        vertical-align: top;\n",
              "    }\n",
              "\n",
              "    .dataframe thead th {\n",
              "        text-align: right;\n",
              "    }\n",
              "</style>\n",
              "<table border=\"1\" class=\"dataframe\">\n",
              "  <thead>\n",
              "    <tr style=\"text-align: right;\">\n",
              "      <th></th>\n",
              "      <th>rank_test_score</th>\n",
              "      <th>params</th>\n",
              "      <th>mean_test_score</th>\n",
              "      <th>mean_train_score</th>\n",
              "    </tr>\n",
              "  </thead>\n",
              "  <tbody>\n",
              "    <tr>\n",
              "      <th>11</th>\n",
              "      <td>1</td>\n",
              "      <td>{'C': 30, 'kernel': 'sigmoid'}</td>\n",
              "      <td>0.9024</td>\n",
              "      <td>0.9037</td>\n",
              "    </tr>\n",
              "    <tr>\n",
              "      <th>22</th>\n",
              "      <td>2</td>\n",
              "      <td>{'C': 60, 'kernel': 'rbf'}</td>\n",
              "      <td>0.9021</td>\n",
              "      <td>0.9036</td>\n",
              "    </tr>\n",
              "    <tr>\n",
              "      <th>28</th>\n",
              "      <td>3</td>\n",
              "      <td>{'C': 75, 'kernel': 'rbf'}</td>\n",
              "      <td>0.9021</td>\n",
              "      <td>0.9040</td>\n",
              "    </tr>\n",
              "    <tr>\n",
              "      <th>26</th>\n",
              "      <td>3</td>\n",
              "      <td>{'C': 70, 'kernel': 'rbf'}</td>\n",
              "      <td>0.9021</td>\n",
              "      <td>0.9039</td>\n",
              "    </tr>\n",
              "    <tr>\n",
              "      <th>9</th>\n",
              "      <td>5</td>\n",
              "      <td>{'C': 25, 'kernel': 'sigmoid'}</td>\n",
              "      <td>0.9021</td>\n",
              "      <td>0.9035</td>\n",
              "    </tr>\n",
              "    <tr>\n",
              "      <th>13</th>\n",
              "      <td>6</td>\n",
              "      <td>{'C': 35, 'kernel': 'sigmoid'}</td>\n",
              "      <td>0.9019</td>\n",
              "      <td>0.9042</td>\n",
              "    </tr>\n",
              "    <tr>\n",
              "      <th>15</th>\n",
              "      <td>7</td>\n",
              "      <td>{'C': 40, 'kernel': 'sigmoid'}</td>\n",
              "      <td>0.9019</td>\n",
              "      <td>0.9042</td>\n",
              "    </tr>\n",
              "    <tr>\n",
              "      <th>24</th>\n",
              "      <td>8</td>\n",
              "      <td>{'C': 65, 'kernel': 'rbf'}</td>\n",
              "      <td>0.9019</td>\n",
              "      <td>0.9038</td>\n",
              "    </tr>\n",
              "    <tr>\n",
              "      <th>36</th>\n",
              "      <td>9</td>\n",
              "      <td>{'C': 95, 'kernel': 'rbf'}</td>\n",
              "      <td>0.9019</td>\n",
              "      <td>0.9043</td>\n",
              "    </tr>\n",
              "    <tr>\n",
              "      <th>32</th>\n",
              "      <td>9</td>\n",
              "      <td>{'C': 85, 'kernel': 'rbf'}</td>\n",
              "      <td>0.9019</td>\n",
              "      <td>0.9041</td>\n",
              "    </tr>\n",
              "    <tr>\n",
              "      <th>34</th>\n",
              "      <td>9</td>\n",
              "      <td>{'C': 90, 'kernel': 'rbf'}</td>\n",
              "      <td>0.9019</td>\n",
              "      <td>0.9042</td>\n",
              "    </tr>\n",
              "    <tr>\n",
              "      <th>38</th>\n",
              "      <td>9</td>\n",
              "      <td>{'C': 100, 'kernel': 'rbf'}</td>\n",
              "      <td>0.9019</td>\n",
              "      <td>0.9043</td>\n",
              "    </tr>\n",
              "    <tr>\n",
              "      <th>30</th>\n",
              "      <td>9</td>\n",
              "      <td>{'C': 80, 'kernel': 'rbf'}</td>\n",
              "      <td>0.9019</td>\n",
              "      <td>0.9040</td>\n",
              "    </tr>\n",
              "    <tr>\n",
              "      <th>5</th>\n",
              "      <td>14</td>\n",
              "      <td>{'C': 15, 'kernel': 'sigmoid'}</td>\n",
              "      <td>0.9016</td>\n",
              "      <td>0.9014</td>\n",
              "    </tr>\n",
              "    <tr>\n",
              "      <th>14</th>\n",
              "      <td>15</td>\n",
              "      <td>{'C': 40, 'kernel': 'rbf'}</td>\n",
              "      <td>0.9014</td>\n",
              "      <td>0.9033</td>\n",
              "    </tr>\n",
              "    <tr>\n",
              "      <th>10</th>\n",
              "      <td>16</td>\n",
              "      <td>{'C': 30, 'kernel': 'rbf'}</td>\n",
              "      <td>0.9014</td>\n",
              "      <td>0.9022</td>\n",
              "    </tr>\n",
              "    <tr>\n",
              "      <th>8</th>\n",
              "      <td>16</td>\n",
              "      <td>{'C': 25, 'kernel': 'rbf'}</td>\n",
              "      <td>0.9014</td>\n",
              "      <td>0.9021</td>\n",
              "    </tr>\n",
              "    <tr>\n",
              "      <th>6</th>\n",
              "      <td>16</td>\n",
              "      <td>{'C': 20, 'kernel': 'rbf'}</td>\n",
              "      <td>0.9014</td>\n",
              "      <td>0.9017</td>\n",
              "    </tr>\n",
              "    <tr>\n",
              "      <th>16</th>\n",
              "      <td>19</td>\n",
              "      <td>{'C': 45, 'kernel': 'rbf'}</td>\n",
              "      <td>0.9011</td>\n",
              "      <td>0.9032</td>\n",
              "    </tr>\n",
              "    <tr>\n",
              "      <th>18</th>\n",
              "      <td>19</td>\n",
              "      <td>{'C': 50, 'kernel': 'rbf'}</td>\n",
              "      <td>0.9011</td>\n",
              "      <td>0.9032</td>\n",
              "    </tr>\n",
              "    <tr>\n",
              "      <th>20</th>\n",
              "      <td>19</td>\n",
              "      <td>{'C': 55, 'kernel': 'rbf'}</td>\n",
              "      <td>0.9011</td>\n",
              "      <td>0.9033</td>\n",
              "    </tr>\n",
              "    <tr>\n",
              "      <th>2</th>\n",
              "      <td>19</td>\n",
              "      <td>{'C': 10, 'kernel': 'rbf'}</td>\n",
              "      <td>0.9011</td>\n",
              "      <td>0.9010</td>\n",
              "    </tr>\n",
              "    <tr>\n",
              "      <th>4</th>\n",
              "      <td>23</td>\n",
              "      <td>{'C': 15, 'kernel': 'rbf'}</td>\n",
              "      <td>0.9009</td>\n",
              "      <td>0.9013</td>\n",
              "    </tr>\n",
              "    <tr>\n",
              "      <th>12</th>\n",
              "      <td>23</td>\n",
              "      <td>{'C': 35, 'kernel': 'rbf'}</td>\n",
              "      <td>0.9009</td>\n",
              "      <td>0.9029</td>\n",
              "    </tr>\n",
              "    <tr>\n",
              "      <th>7</th>\n",
              "      <td>25</td>\n",
              "      <td>{'C': 20, 'kernel': 'sigmoid'}</td>\n",
              "      <td>0.9009</td>\n",
              "      <td>0.9019</td>\n",
              "    </tr>\n",
              "    <tr>\n",
              "      <th>0</th>\n",
              "      <td>26</td>\n",
              "      <td>{'C': 5, 'kernel': 'rbf'}</td>\n",
              "      <td>0.9007</td>\n",
              "      <td>0.9007</td>\n",
              "    </tr>\n",
              "    <tr>\n",
              "      <th>3</th>\n",
              "      <td>27</td>\n",
              "      <td>{'C': 10, 'kernel': 'sigmoid'}</td>\n",
              "      <td>0.9002</td>\n",
              "      <td>0.9007</td>\n",
              "    </tr>\n",
              "    <tr>\n",
              "      <th>21</th>\n",
              "      <td>28</td>\n",
              "      <td>{'C': 55, 'kernel': 'sigmoid'}</td>\n",
              "      <td>0.8997</td>\n",
              "      <td>0.9025</td>\n",
              "    </tr>\n",
              "    <tr>\n",
              "      <th>17</th>\n",
              "      <td>29</td>\n",
              "      <td>{'C': 45, 'kernel': 'sigmoid'}</td>\n",
              "      <td>0.8997</td>\n",
              "      <td>0.9040</td>\n",
              "    </tr>\n",
              "    <tr>\n",
              "      <th>19</th>\n",
              "      <td>30</td>\n",
              "      <td>{'C': 50, 'kernel': 'sigmoid'}</td>\n",
              "      <td>0.8994</td>\n",
              "      <td>0.9027</td>\n",
              "    </tr>\n",
              "    <tr>\n",
              "      <th>27</th>\n",
              "      <td>31</td>\n",
              "      <td>{'C': 70, 'kernel': 'sigmoid'}</td>\n",
              "      <td>0.8992</td>\n",
              "      <td>0.9010</td>\n",
              "    </tr>\n",
              "    <tr>\n",
              "      <th>25</th>\n",
              "      <td>31</td>\n",
              "      <td>{'C': 65, 'kernel': 'sigmoid'}</td>\n",
              "      <td>0.8992</td>\n",
              "      <td>0.9017</td>\n",
              "    </tr>\n",
              "    <tr>\n",
              "      <th>33</th>\n",
              "      <td>33</td>\n",
              "      <td>{'C': 85, 'kernel': 'sigmoid'}</td>\n",
              "      <td>0.8987</td>\n",
              "      <td>0.9000</td>\n",
              "    </tr>\n",
              "    <tr>\n",
              "      <th>29</th>\n",
              "      <td>33</td>\n",
              "      <td>{'C': 75, 'kernel': 'sigmoid'}</td>\n",
              "      <td>0.8987</td>\n",
              "      <td>0.9008</td>\n",
              "    </tr>\n",
              "    <tr>\n",
              "      <th>23</th>\n",
              "      <td>35</td>\n",
              "      <td>{'C': 60, 'kernel': 'sigmoid'}</td>\n",
              "      <td>0.8987</td>\n",
              "      <td>0.9022</td>\n",
              "    </tr>\n",
              "    <tr>\n",
              "      <th>31</th>\n",
              "      <td>36</td>\n",
              "      <td>{'C': 80, 'kernel': 'sigmoid'}</td>\n",
              "      <td>0.8985</td>\n",
              "      <td>0.9004</td>\n",
              "    </tr>\n",
              "    <tr>\n",
              "      <th>37</th>\n",
              "      <td>36</td>\n",
              "      <td>{'C': 95, 'kernel': 'sigmoid'}</td>\n",
              "      <td>0.8985</td>\n",
              "      <td>0.8997</td>\n",
              "    </tr>\n",
              "    <tr>\n",
              "      <th>35</th>\n",
              "      <td>38</td>\n",
              "      <td>{'C': 90, 'kernel': 'sigmoid'}</td>\n",
              "      <td>0.8982</td>\n",
              "      <td>0.8999</td>\n",
              "    </tr>\n",
              "    <tr>\n",
              "      <th>39</th>\n",
              "      <td>39</td>\n",
              "      <td>{'C': 100, 'kernel': 'sigmoid'}</td>\n",
              "      <td>0.8982</td>\n",
              "      <td>0.9002</td>\n",
              "    </tr>\n",
              "    <tr>\n",
              "      <th>1</th>\n",
              "      <td>40</td>\n",
              "      <td>{'C': 5, 'kernel': 'sigmoid'}</td>\n",
              "      <td>0.8965</td>\n",
              "      <td>0.8990</td>\n",
              "    </tr>\n",
              "  </tbody>\n",
              "</table>\n",
              "</div>"
            ],
            "application/vnd.google.colaboratory.module+javascript": "\n      import \"https://ssl.gstatic.com/colaboratory/data_table/a8bd4d5e58f96183/data_table.js\";\n\n      window.createDataTable({\n        data: [[{\n            'v': 11,\n            'f': \"11\",\n        },\n{\n            'v': 1,\n            'f': \"1\",\n        },\n\"{'C': 30, 'kernel': 'sigmoid'}\",\n{\n            'v': 0.9024,\n            'f': \"0.9024\",\n        },\n{\n            'v': 0.9037,\n            'f': \"0.9037\",\n        }],\n [{\n            'v': 22,\n            'f': \"22\",\n        },\n{\n            'v': 2,\n            'f': \"2\",\n        },\n\"{'C': 60, 'kernel': 'rbf'}\",\n{\n            'v': 0.9021,\n            'f': \"0.9021\",\n        },\n{\n            'v': 0.9036,\n            'f': \"0.9036\",\n        }],\n [{\n            'v': 28,\n            'f': \"28\",\n        },\n{\n            'v': 3,\n            'f': \"3\",\n        },\n\"{'C': 75, 'kernel': 'rbf'}\",\n{\n            'v': 0.9021,\n            'f': \"0.9021\",\n        },\n{\n            'v': 0.904,\n            'f': \"0.904\",\n        }],\n [{\n            'v': 26,\n            'f': \"26\",\n        },\n{\n            'v': 3,\n            'f': \"3\",\n        },\n\"{'C': 70, 'kernel': 'rbf'}\",\n{\n            'v': 0.9021,\n            'f': \"0.9021\",\n        },\n{\n            'v': 0.9039,\n            'f': \"0.9039\",\n        }],\n [{\n            'v': 9,\n            'f': \"9\",\n        },\n{\n            'v': 5,\n            'f': \"5\",\n        },\n\"{'C': 25, 'kernel': 'sigmoid'}\",\n{\n            'v': 0.9021,\n            'f': \"0.9021\",\n        },\n{\n            'v': 0.9035,\n            'f': \"0.9035\",\n        }],\n [{\n            'v': 13,\n            'f': \"13\",\n        },\n{\n            'v': 6,\n            'f': \"6\",\n        },\n\"{'C': 35, 'kernel': 'sigmoid'}\",\n{\n            'v': 0.9019,\n            'f': \"0.9019\",\n        },\n{\n            'v': 0.9042,\n            'f': \"0.9042\",\n        }],\n [{\n            'v': 15,\n            'f': \"15\",\n        },\n{\n            'v': 7,\n            'f': \"7\",\n        },\n\"{'C': 40, 'kernel': 'sigmoid'}\",\n{\n            'v': 0.9019,\n            'f': \"0.9019\",\n        },\n{\n            'v': 0.9042,\n            'f': \"0.9042\",\n        }],\n [{\n            'v': 24,\n            'f': \"24\",\n        },\n{\n            'v': 8,\n            'f': \"8\",\n        },\n\"{'C': 65, 'kernel': 'rbf'}\",\n{\n            'v': 0.9019,\n            'f': \"0.9019\",\n        },\n{\n            'v': 0.9038,\n            'f': \"0.9038\",\n        }],\n [{\n            'v': 36,\n            'f': \"36\",\n        },\n{\n            'v': 9,\n            'f': \"9\",\n        },\n\"{'C': 95, 'kernel': 'rbf'}\",\n{\n            'v': 0.9019,\n            'f': \"0.9019\",\n        },\n{\n            'v': 0.9043,\n            'f': \"0.9043\",\n        }],\n [{\n            'v': 32,\n            'f': \"32\",\n        },\n{\n            'v': 9,\n            'f': \"9\",\n        },\n\"{'C': 85, 'kernel': 'rbf'}\",\n{\n            'v': 0.9019,\n            'f': \"0.9019\",\n        },\n{\n            'v': 0.9041,\n            'f': \"0.9041\",\n        }],\n [{\n            'v': 34,\n            'f': \"34\",\n        },\n{\n            'v': 9,\n            'f': \"9\",\n        },\n\"{'C': 90, 'kernel': 'rbf'}\",\n{\n            'v': 0.9019,\n            'f': \"0.9019\",\n        },\n{\n            'v': 0.9042,\n            'f': \"0.9042\",\n        }],\n [{\n            'v': 38,\n            'f': \"38\",\n        },\n{\n            'v': 9,\n            'f': \"9\",\n        },\n\"{'C': 100, 'kernel': 'rbf'}\",\n{\n            'v': 0.9019,\n            'f': \"0.9019\",\n        },\n{\n            'v': 0.9043,\n            'f': \"0.9043\",\n        }],\n [{\n            'v': 30,\n            'f': \"30\",\n        },\n{\n            'v': 9,\n            'f': \"9\",\n        },\n\"{'C': 80, 'kernel': 'rbf'}\",\n{\n            'v': 0.9019,\n            'f': \"0.9019\",\n        },\n{\n            'v': 0.904,\n            'f': \"0.904\",\n        }],\n [{\n            'v': 5,\n            'f': \"5\",\n        },\n{\n            'v': 14,\n            'f': \"14\",\n        },\n\"{'C': 15, 'kernel': 'sigmoid'}\",\n{\n            'v': 0.9016,\n            'f': \"0.9016\",\n        },\n{\n            'v': 0.9014,\n            'f': \"0.9014\",\n        }],\n [{\n            'v': 14,\n            'f': \"14\",\n        },\n{\n            'v': 15,\n            'f': \"15\",\n        },\n\"{'C': 40, 'kernel': 'rbf'}\",\n{\n            'v': 0.9014,\n            'f': \"0.9014\",\n        },\n{\n            'v': 0.9033,\n            'f': \"0.9033\",\n        }],\n [{\n            'v': 10,\n            'f': \"10\",\n        },\n{\n            'v': 16,\n            'f': \"16\",\n        },\n\"{'C': 30, 'kernel': 'rbf'}\",\n{\n            'v': 0.9014,\n            'f': \"0.9014\",\n        },\n{\n            'v': 0.9022,\n            'f': \"0.9022\",\n        }],\n [{\n            'v': 8,\n            'f': \"8\",\n        },\n{\n            'v': 16,\n            'f': \"16\",\n        },\n\"{'C': 25, 'kernel': 'rbf'}\",\n{\n            'v': 0.9014,\n            'f': \"0.9014\",\n        },\n{\n            'v': 0.9021,\n            'f': \"0.9021\",\n        }],\n [{\n            'v': 6,\n            'f': \"6\",\n        },\n{\n            'v': 16,\n            'f': \"16\",\n        },\n\"{'C': 20, 'kernel': 'rbf'}\",\n{\n            'v': 0.9014,\n            'f': \"0.9014\",\n        },\n{\n            'v': 0.9017,\n            'f': \"0.9017\",\n        }],\n [{\n            'v': 16,\n            'f': \"16\",\n        },\n{\n            'v': 19,\n            'f': \"19\",\n        },\n\"{'C': 45, 'kernel': 'rbf'}\",\n{\n            'v': 0.9011,\n            'f': \"0.9011\",\n        },\n{\n            'v': 0.9032,\n            'f': \"0.9032\",\n        }],\n [{\n            'v': 18,\n            'f': \"18\",\n        },\n{\n            'v': 19,\n            'f': \"19\",\n        },\n\"{'C': 50, 'kernel': 'rbf'}\",\n{\n            'v': 0.9011,\n            'f': \"0.9011\",\n        },\n{\n            'v': 0.9032,\n            'f': \"0.9032\",\n        }],\n [{\n            'v': 20,\n            'f': \"20\",\n        },\n{\n            'v': 19,\n            'f': \"19\",\n        },\n\"{'C': 55, 'kernel': 'rbf'}\",\n{\n            'v': 0.9011,\n            'f': \"0.9011\",\n        },\n{\n            'v': 0.9033,\n            'f': \"0.9033\",\n        }],\n [{\n            'v': 2,\n            'f': \"2\",\n        },\n{\n            'v': 19,\n            'f': \"19\",\n        },\n\"{'C': 10, 'kernel': 'rbf'}\",\n{\n            'v': 0.9011,\n            'f': \"0.9011\",\n        },\n{\n            'v': 0.901,\n            'f': \"0.901\",\n        }],\n [{\n            'v': 4,\n            'f': \"4\",\n        },\n{\n            'v': 23,\n            'f': \"23\",\n        },\n\"{'C': 15, 'kernel': 'rbf'}\",\n{\n            'v': 0.9009,\n            'f': \"0.9009\",\n        },\n{\n            'v': 0.9013,\n            'f': \"0.9013\",\n        }],\n [{\n            'v': 12,\n            'f': \"12\",\n        },\n{\n            'v': 23,\n            'f': \"23\",\n        },\n\"{'C': 35, 'kernel': 'rbf'}\",\n{\n            'v': 0.9009,\n            'f': \"0.9009\",\n        },\n{\n            'v': 0.9029,\n            'f': \"0.9029\",\n        }],\n [{\n            'v': 7,\n            'f': \"7\",\n        },\n{\n            'v': 25,\n            'f': \"25\",\n        },\n\"{'C': 20, 'kernel': 'sigmoid'}\",\n{\n            'v': 0.9009,\n            'f': \"0.9009\",\n        },\n{\n            'v': 0.9019,\n            'f': \"0.9019\",\n        }],\n [{\n            'v': 0,\n            'f': \"0\",\n        },\n{\n            'v': 26,\n            'f': \"26\",\n        },\n\"{'C': 5, 'kernel': 'rbf'}\",\n{\n            'v': 0.9007,\n            'f': \"0.9007\",\n        },\n{\n            'v': 0.9007,\n            'f': \"0.9007\",\n        }],\n [{\n            'v': 3,\n            'f': \"3\",\n        },\n{\n            'v': 27,\n            'f': \"27\",\n        },\n\"{'C': 10, 'kernel': 'sigmoid'}\",\n{\n            'v': 0.9002,\n            'f': \"0.9002\",\n        },\n{\n            'v': 0.9007,\n            'f': \"0.9007\",\n        }],\n [{\n            'v': 21,\n            'f': \"21\",\n        },\n{\n            'v': 28,\n            'f': \"28\",\n        },\n\"{'C': 55, 'kernel': 'sigmoid'}\",\n{\n            'v': 0.8997,\n            'f': \"0.8997\",\n        },\n{\n            'v': 0.9025,\n            'f': \"0.9025\",\n        }],\n [{\n            'v': 17,\n            'f': \"17\",\n        },\n{\n            'v': 29,\n            'f': \"29\",\n        },\n\"{'C': 45, 'kernel': 'sigmoid'}\",\n{\n            'v': 0.8997,\n            'f': \"0.8997\",\n        },\n{\n            'v': 0.904,\n            'f': \"0.904\",\n        }],\n [{\n            'v': 19,\n            'f': \"19\",\n        },\n{\n            'v': 30,\n            'f': \"30\",\n        },\n\"{'C': 50, 'kernel': 'sigmoid'}\",\n{\n            'v': 0.8994,\n            'f': \"0.8994\",\n        },\n{\n            'v': 0.9027,\n            'f': \"0.9027\",\n        }],\n [{\n            'v': 27,\n            'f': \"27\",\n        },\n{\n            'v': 31,\n            'f': \"31\",\n        },\n\"{'C': 70, 'kernel': 'sigmoid'}\",\n{\n            'v': 0.8992,\n            'f': \"0.8992\",\n        },\n{\n            'v': 0.901,\n            'f': \"0.901\",\n        }],\n [{\n            'v': 25,\n            'f': \"25\",\n        },\n{\n            'v': 31,\n            'f': \"31\",\n        },\n\"{'C': 65, 'kernel': 'sigmoid'}\",\n{\n            'v': 0.8992,\n            'f': \"0.8992\",\n        },\n{\n            'v': 0.9017,\n            'f': \"0.9017\",\n        }],\n [{\n            'v': 33,\n            'f': \"33\",\n        },\n{\n            'v': 33,\n            'f': \"33\",\n        },\n\"{'C': 85, 'kernel': 'sigmoid'}\",\n{\n            'v': 0.8987,\n            'f': \"0.8987\",\n        },\n{\n            'v': 0.9,\n            'f': \"0.9\",\n        }],\n [{\n            'v': 29,\n            'f': \"29\",\n        },\n{\n            'v': 33,\n            'f': \"33\",\n        },\n\"{'C': 75, 'kernel': 'sigmoid'}\",\n{\n            'v': 0.8987,\n            'f': \"0.8987\",\n        },\n{\n            'v': 0.9008,\n            'f': \"0.9008\",\n        }],\n [{\n            'v': 23,\n            'f': \"23\",\n        },\n{\n            'v': 35,\n            'f': \"35\",\n        },\n\"{'C': 60, 'kernel': 'sigmoid'}\",\n{\n            'v': 0.8987,\n            'f': \"0.8987\",\n        },\n{\n            'v': 0.9022,\n            'f': \"0.9022\",\n        }],\n [{\n            'v': 31,\n            'f': \"31\",\n        },\n{\n            'v': 36,\n            'f': \"36\",\n        },\n\"{'C': 80, 'kernel': 'sigmoid'}\",\n{\n            'v': 0.8985,\n            'f': \"0.8985\",\n        },\n{\n            'v': 0.9004,\n            'f': \"0.9004\",\n        }],\n [{\n            'v': 37,\n            'f': \"37\",\n        },\n{\n            'v': 36,\n            'f': \"36\",\n        },\n\"{'C': 95, 'kernel': 'sigmoid'}\",\n{\n            'v': 0.8985,\n            'f': \"0.8985\",\n        },\n{\n            'v': 0.8997,\n            'f': \"0.8997\",\n        }],\n [{\n            'v': 35,\n            'f': \"35\",\n        },\n{\n            'v': 38,\n            'f': \"38\",\n        },\n\"{'C': 90, 'kernel': 'sigmoid'}\",\n{\n            'v': 0.8982,\n            'f': \"0.8982\",\n        },\n{\n            'v': 0.8999,\n            'f': \"0.8999\",\n        }],\n [{\n            'v': 39,\n            'f': \"39\",\n        },\n{\n            'v': 39,\n            'f': \"39\",\n        },\n\"{'C': 100, 'kernel': 'sigmoid'}\",\n{\n            'v': 0.8982,\n            'f': \"0.8982\",\n        },\n{\n            'v': 0.9002,\n            'f': \"0.9002\",\n        }],\n [{\n            'v': 1,\n            'f': \"1\",\n        },\n{\n            'v': 40,\n            'f': \"40\",\n        },\n\"{'C': 5, 'kernel': 'sigmoid'}\",\n{\n            'v': 0.8965,\n            'f': \"0.8965\",\n        },\n{\n            'v': 0.899,\n            'f': \"0.899\",\n        }]],\n        columns: [[\"number\", \"index\"], [\"number\", \"rank_test_score\"], [\"string\", \"params\"], [\"number\", \"mean_test_score\"], [\"number\", \"mean_train_score\"]],\n        columnOptions: [{\"width\": \"1px\", \"className\": \"index_column\"}],\n        rowsPerPage: 25,\n        helpUrl: \"https://colab.research.google.com/notebooks/data_table.ipynb\",\n        suppressOutputScrolling: true,\n        minimumWidth: undefined,\n      });\n    ",
            "text/plain": [
              "<google.colab.data_table.DataTable object>"
            ]
          },
          "metadata": {},
          "execution_count": 36
        }
      ],
      "source": [
        "grid_search_df = pd.DataFrame(svc.cv_results_)\n",
        "grid_search_df = round(grid_search_df,4)\n",
        "grid_search_df = grid_search_df.sort_values('rank_test_score')[['rank_test_score','params','mean_test_score','mean_train_score']]\n",
        "from google.colab import data_table\n",
        "data_table.DataTable(grid_search_df)"
      ]
    },
    {
      "cell_type": "markdown",
      "metadata": {
        "id": "LNaSi1tSCPzB"
      },
      "source": [
        "# Task 6"
      ]
    },
    {
      "cell_type": "markdown",
      "metadata": {
        "id": "cp3FakQJCh5Y"
      },
      "source": [
        "### 1. Write up your reflections on all of the models built. Which model was most successful? What would you do to potentially improve on the successes of these models? "
      ]
    },
    {
      "cell_type": "markdown",
      "source": [
        "Many of the models built have similar performance scores among the train and test accuracies. I found that having 2 hidden layers each with 10 neurons gave me the best results, giving test_accuracy 0.905027 and\n",
        "train_accuracy 0.906304. The training accuracy is higher than the test which is a good sign that the model has learned and generalised correctly.\n",
        "For future improvements, I would test out with more hyperparameter combinations to try and get even higher accuracies."
      ],
      "metadata": {
        "id": "7cZ1if3f0Nqt"
      }
    },
    {
      "cell_type": "code",
      "execution_count": null,
      "metadata": {
        "id": "iSmsCD1PCpZC",
        "colab": {
          "base_uri": "https://localhost:8080/"
        },
        "outputId": "163186f7-4680-4cb8-ff39-85efa46f60f1"
      },
      "outputs": [
        {
          "output_type": "stream",
          "name": "stdout",
          "text": [
            "Mounted at /content/drive\n"
          ]
        }
      ],
      "source": [
        "from google.colab import drive\n",
        "drive.mount('/content/drive')"
      ]
    },
    {
      "cell_type": "code",
      "execution_count": null,
      "metadata": {
        "id": "QamN9rQ9DB3Y",
        "colab": {
          "base_uri": "https://localhost:8080/"
        },
        "outputId": "b9c10a38-0cab-49f2-df90-4f9b22004b1f"
      },
      "outputs": [
        {
          "output_type": "stream",
          "name": "stdout",
          "text": [
            "[NbConvertApp] Converting notebook A7_Dien_Alex.ipynb to html\n",
            "[NbConvertApp] Writing 371598 bytes to A7_Dien_Alex.html\n"
          ]
        }
      ],
      "source": [
        "!cp \"/content/drive/My Drive/Colab Notebooks/A7_Dien_Alex.ipynb\" ./\n",
        "\n",
        "# create html from ipynb\n",
        "!jupyter nbconvert --to html \"A7_Dien_Alex.ipynb\""
      ]
    }
  ],
  "metadata": {
    "colab": {
      "provenance": [],
      "collapsed_sections": []
    },
    "kernelspec": {
      "display_name": "Python 3",
      "name": "python3"
    },
    "language_info": {
      "name": "python"
    },
    "gpuClass": "standard"
  },
  "nbformat": 4,
  "nbformat_minor": 0
}